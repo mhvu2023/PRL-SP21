{
 "cells": [
  {
   "cell_type": "markdown",
   "metadata": {},
   "source": [
    "# Cleaning Data\n",
    "\n",
    "**Prerequisites**\n",
    "\n",
    "- [Intro](intro.ipynb)  \n",
    "- [Boolean selection](basics.ipynb)  \n",
    "- [Indexing](the_index.ipynb)  \n",
    "\n",
    "\n",
    "**Outcomes**\n",
    "\n",
    "- Be able to use string methods to clean data that comes as a string  \n",
    "- Be able to drop missing data  \n",
    "- Use cleaning methods to prepare and analyze a real dataset  \n",
    "\n",
    "\n",
    "**Data**\n",
    "\n",
    "- Item information from about 3,000 Chipotle meals from about 1,800\n",
    "  Grubhub orders  "
   ]
  },
  {
   "cell_type": "code",
   "execution_count": 6,
   "metadata": {
    "hide-output": false
   },
   "outputs": [],
   "source": [
    "# Uncomment following line to install on colab\n",
    "#! pip install qeds"
   ]
  },
  {
   "cell_type": "code",
   "execution_count": 7,
   "metadata": {
    "hide-output": false
   },
   "outputs": [],
   "source": [
    "import pandas as pd\n",
    "import numpy as np\n",
    "import qeds"
   ]
  },
  {
   "cell_type": "code",
   "execution_count": 8,
   "metadata": {
    "hide-output": false
   },
   "outputs": [
    {
     "data": {
      "text/html": [
       "<div>\n",
       "<style scoped>\n",
       "    .dataframe tbody tr th:only-of-type {\n",
       "        vertical-align: middle;\n",
       "    }\n",
       "\n",
       "    .dataframe tbody tr th {\n",
       "        vertical-align: top;\n",
       "    }\n",
       "\n",
       "    .dataframe thead th {\n",
       "        text-align: right;\n",
       "    }\n",
       "</style>\n",
       "<table border=\"1\" class=\"dataframe\">\n",
       "  <thead>\n",
       "    <tr style=\"text-align: right;\">\n",
       "      <th></th>\n",
       "      <th>numbers</th>\n",
       "      <th>nums</th>\n",
       "      <th>colors</th>\n",
       "      <th>other_column</th>\n",
       "    </tr>\n",
       "  </thead>\n",
       "  <tbody>\n",
       "    <tr>\n",
       "      <th>0</th>\n",
       "      <td>#23</td>\n",
       "      <td>23</td>\n",
       "      <td>green</td>\n",
       "      <td>0</td>\n",
       "    </tr>\n",
       "    <tr>\n",
       "      <th>1</th>\n",
       "      <td>#24</td>\n",
       "      <td>24</td>\n",
       "      <td>red</td>\n",
       "      <td>1</td>\n",
       "    </tr>\n",
       "    <tr>\n",
       "      <th>2</th>\n",
       "      <td>#18</td>\n",
       "      <td>18</td>\n",
       "      <td>yellow</td>\n",
       "      <td>0</td>\n",
       "    </tr>\n",
       "    <tr>\n",
       "      <th>3</th>\n",
       "      <td>#14</td>\n",
       "      <td>14</td>\n",
       "      <td>orange</td>\n",
       "      <td>2</td>\n",
       "    </tr>\n",
       "    <tr>\n",
       "      <th>4</th>\n",
       "      <td>#12</td>\n",
       "      <td>NaN</td>\n",
       "      <td>purple</td>\n",
       "      <td>1</td>\n",
       "    </tr>\n",
       "    <tr>\n",
       "      <th>5</th>\n",
       "      <td>#10</td>\n",
       "      <td>XYZ</td>\n",
       "      <td>blue</td>\n",
       "      <td>0</td>\n",
       "    </tr>\n",
       "    <tr>\n",
       "      <th>6</th>\n",
       "      <td>#35</td>\n",
       "      <td>35</td>\n",
       "      <td>pink</td>\n",
       "      <td>2</td>\n",
       "    </tr>\n",
       "  </tbody>\n",
       "</table>\n",
       "</div>"
      ],
      "text/plain": [
       "  numbers nums  colors  other_column\n",
       "0     #23   23   green             0\n",
       "1     #24   24     red             1\n",
       "2     #18   18  yellow             0\n",
       "3     #14   14  orange             2\n",
       "4     #12  NaN  purple             1\n",
       "5     #10  XYZ    blue             0\n",
       "6     #35   35    pink             2"
      ]
     },
     "execution_count": 8,
     "metadata": {},
     "output_type": "execute_result"
    }
   ],
   "source": [
    "df = pd.DataFrame({\"numbers\": [\"#23\", \"#24\", \"#18\", \"#14\", \"#12\", \"#10\", \"#35\"],\n",
    "                   \"nums\": [\"23\", \"24\", \"18\", \"14\", np.nan, \"XYZ\", \"35\"],\n",
    "                   \"colors\": [\"green\", \"red\", \"yellow\", \"orange\", \"purple\", \"blue\", \"pink\"],\n",
    "                   \"other_column\": [0, 1, 0, 2, 1, 0, 2]})\n",
    "df"
   ]
  },
  {
   "cell_type": "markdown",
   "metadata": {},
   "source": [
    "\n",
    "<a id='exercise-1'></a>\n",
    "> See exercise 2 in the [*exercise list*](#exerciselist-0)"
   ]
  },
  {
   "cell_type": "markdown",
   "metadata": {},
   "source": [
    "\n",
    "<a id='exercise-2'></a>\n",
    "> See exercise 3 in the [*exercise list*](#exerciselist-0)"
   ]
  },
  {
   "cell_type": "code",
   "execution_count": 26,
   "metadata": {
    "hide-output": false
   },
   "outputs": [
    {
     "data": {
      "text/html": [
       "<div>\n",
       "<style scoped>\n",
       "    .dataframe tbody tr th:only-of-type {\n",
       "        vertical-align: middle;\n",
       "    }\n",
       "\n",
       "    .dataframe tbody tr th {\n",
       "        vertical-align: top;\n",
       "    }\n",
       "\n",
       "    .dataframe thead th {\n",
       "        text-align: right;\n",
       "    }\n",
       "</style>\n",
       "<table border=\"1\" class=\"dataframe\">\n",
       "  <thead>\n",
       "    <tr style=\"text-align: right;\">\n",
       "      <th></th>\n",
       "      <th>order_id</th>\n",
       "      <th>quantity</th>\n",
       "      <th>item_name</th>\n",
       "      <th>choice_description</th>\n",
       "      <th>item_price</th>\n",
       "    </tr>\n",
       "  </thead>\n",
       "  <tbody>\n",
       "    <tr>\n",
       "      <th>0</th>\n",
       "      <td>1</td>\n",
       "      <td>1</td>\n",
       "      <td>Chips and Fresh Tomato Salsa</td>\n",
       "      <td>NaN</td>\n",
       "      <td>$2.39</td>\n",
       "    </tr>\n",
       "    <tr>\n",
       "      <th>1</th>\n",
       "      <td>1</td>\n",
       "      <td>1</td>\n",
       "      <td>Izze</td>\n",
       "      <td>[Clementine]</td>\n",
       "      <td>$3.39</td>\n",
       "    </tr>\n",
       "    <tr>\n",
       "      <th>2</th>\n",
       "      <td>1</td>\n",
       "      <td>1</td>\n",
       "      <td>Nantucket Nectar</td>\n",
       "      <td>[Apple]</td>\n",
       "      <td>$3.39</td>\n",
       "    </tr>\n",
       "    <tr>\n",
       "      <th>3</th>\n",
       "      <td>1</td>\n",
       "      <td>1</td>\n",
       "      <td>Chips and Tomatillo-Green Chili Salsa</td>\n",
       "      <td>NaN</td>\n",
       "      <td>$2.39</td>\n",
       "    </tr>\n",
       "    <tr>\n",
       "      <th>4</th>\n",
       "      <td>2</td>\n",
       "      <td>2</td>\n",
       "      <td>Chicken Bowl</td>\n",
       "      <td>[Tomatillo-Red Chili Salsa (Hot), [Black Beans...</td>\n",
       "      <td>$16.98</td>\n",
       "    </tr>\n",
       "  </tbody>\n",
       "</table>\n",
       "</div>"
      ],
      "text/plain": [
       "   order_id  quantity                              item_name  \\\n",
       "0         1         1           Chips and Fresh Tomato Salsa   \n",
       "1         1         1                                   Izze   \n",
       "2         1         1                       Nantucket Nectar   \n",
       "3         1         1  Chips and Tomatillo-Green Chili Salsa   \n",
       "4         2         2                           Chicken Bowl   \n",
       "\n",
       "                                  choice_description item_price  \n",
       "0                                                NaN     $2.39   \n",
       "1                                       [Clementine]     $3.39   \n",
       "2                                            [Apple]     $3.39   \n",
       "3                                                NaN     $2.39   \n",
       "4  [Tomatillo-Red Chili Salsa (Hot), [Black Beans...    $16.98   "
      ]
     },
     "execution_count": 26,
     "metadata": {},
     "output_type": "execute_result"
    }
   ],
   "source": [
    "chipotle = qeds.data.load(\"chipotle_raw\")\n",
    "chipotle.head()"
   ]
  },
  {
   "cell_type": "markdown",
   "metadata": {},
   "source": [
    "\n",
    "<a id='exercise-3'></a>\n",
    "> See exercise 4 in the [*exercise list*](#exerciselist-0)"
   ]
  },
  {
   "cell_type": "markdown",
   "metadata": {},
   "source": [
    "## Exercises\n",
    "\n",
    "\n",
    "<a id='exerciselist-0'></a>\n",
    "**Exercise 1**\n",
    "\n",
    "Convert the string below into a number."
   ]
  },
  {
   "cell_type": "code",
   "execution_count": 32,
   "metadata": {
    "hide-output": false
   },
   "outputs": [
    {
     "data": {
      "text/plain": [
       "39"
      ]
     },
     "execution_count": 32,
     "metadata": {},
     "output_type": "execute_result"
    }
   ],
   "source": [
    "c2n = \"#39\" \n",
    "int(c2n.replace(\"#\",\"\")) #have to remove the non number elements of the string, and transform that to int"
   ]
  },
  {
   "cell_type": "markdown",
   "metadata": {},
   "source": [
    "([*back to text*](#exercise-0))\n",
    "\n",
    "**Exercise 2**\n",
    "\n",
    "Make a new column called `colors_upper` that contains the elements of\n",
    "`colors` with all uppercase letters.\n",
    "\n",
    "([*back to text*](#exercise-1))\n",
    "\n",
    "**Exercise 3**\n",
    "\n",
    "Convert the column `\"nums\"` to a numeric type using `pd.to_numeric` and\n",
    "save it to the DataFrame as `\"nums_tonumeric\"`.\n",
    "\n",
    "Notice that there is a missing value, and a value that is not a number.\n",
    "\n",
    "Look at the documentation for `pd.to_numeric` and think about how to\n",
    "overcome this.\n",
    "\n",
    "Think about why this could be a bad idea of used without\n",
    "knowing what your data looks like. (Think about what happens when you\n",
    "apply it to the `\"numbers\"` column before replacing the `\"#\"`.)\n",
    "\n",
    "([*back to text*](#exercise-2))\n",
    "\n",
    "**Exercise 4**\n",
    "\n",
    "We'd like you to use this data to answer the following questions.\n",
    "\n",
    "- What is the average price of an item with chicken?  \n",
    "- What is the average price of an item with steak?  \n",
    "- Did chicken or steak produce more revenue (total)?  \n",
    "- How many missing items are there in this dataset? How many missing\n",
    "  items in each column?  \n",
    "\n",
    "\n",
    "Hint: before you will be able to do any of these things you will need to\n",
    "make sure the `item_price` column has a numeric `dtype` (probably\n",
    "float)\n",
    "\n",
    "([*back to text*](#exercise-3))"
   ]
  },
  {
   "cell_type": "code",
   "execution_count": 33,
   "metadata": {},
   "outputs": [
    {
     "name": "stdout",
     "output_type": "stream",
     "text": [
      "  numbers nums  colors  other_column  numbers_loop numbers_str  \\\n",
      "0     #23   23   green             0          23.0          23   \n",
      "1     #24   24     red             1          24.0          24   \n",
      "2     #18   18  yellow             0          18.0          18   \n",
      "3     #14   14  orange             2          14.0          14   \n",
      "4     #12  NaN  purple             1          12.0          12   \n",
      "5     #10  XYZ    blue             0          10.0          10   \n",
      "6     #35   35    pink             2          35.0          35   \n",
      "\n",
      "   numbers_numeric colors_upper  \n",
      "0               23        GREEN  \n",
      "1               24          RED  \n",
      "2               18       YELLOW  \n",
      "3               14       ORANGE  \n",
      "4               12       PURPLE  \n",
      "5               10         BLUE  \n",
      "6               35         PINK  \n"
     ]
    }
   ],
   "source": [
    "#EX2\n",
    "df['colors_upper'] = df[\"colors\"].str.upper() #create new column with the information asked\n",
    "print(df) #check it was created correctly"
   ]
  },
  {
   "cell_type": "code",
   "execution_count": 34,
   "metadata": {},
   "outputs": [
    {
     "name": "stdout",
     "output_type": "stream",
     "text": [
      "  numbers nums  colors  other_column  numbers_loop numbers_str  \\\n",
      "0     #23   23   green             0          23.0          23   \n",
      "1     #24   24     red             1          24.0          24   \n",
      "2     #18   18  yellow             0          18.0          18   \n",
      "3     #14   14  orange             2          14.0          14   \n",
      "4     #12  NaN  purple             1          12.0          12   \n",
      "5     #10  XYZ    blue             0          10.0          10   \n",
      "6     #35   35    pink             2          35.0          35   \n",
      "\n",
      "   numbers_numeric colors_upper  nums_tonumeric  \n",
      "0               23        GREEN            23.0  \n",
      "1               24          RED            24.0  \n",
      "2               18       YELLOW            18.0  \n",
      "3               14       ORANGE            14.0  \n",
      "4               12       PURPLE             NaN  \n",
      "5               10         BLUE             NaN  \n",
      "6               35         PINK            35.0  \n"
     ]
    }
   ],
   "source": [
    "#EX3\n",
    "df['nums_tonumeric'] = pd.to_numeric(df['nums'],errors='coerce') #use coerce to have all the column with numeric values\n",
    "print(df)"
   ]
  },
  {
   "cell_type": "code",
   "execution_count": 35,
   "metadata": {},
   "outputs": [
    {
     "name": "stdout",
     "output_type": "stream",
     "text": [
      "The average price of an item with chicken is:\n"
     ]
    },
    {
     "data": {
      "text/plain": [
       "10.133724358974309"
      ]
     },
     "execution_count": 35,
     "metadata": {},
     "output_type": "execute_result"
    }
   ],
   "source": [
    "#EX4\n",
    "chipotle=qeds.data.load(\"chipotle_raw\")\n",
    "chipotle[chipotle.columns[4]] = chipotle[chipotle.columns[4]].replace('[\\$,]', '', regex=True).astype(float)\n",
    "df1=chipotle[chipotle['item_name'].str.contains(\"Chicken\")]\n",
    "print('The average price of an item with chicken is:')\n",
    "df1[\"item_price\"].mean() "
   ]
  },
  {
   "cell_type": "code",
   "execution_count": 36,
   "metadata": {},
   "outputs": [
    {
     "name": "stdout",
     "output_type": "stream",
     "text": [
      "The average price of an item with steak is:\n"
     ]
    },
    {
     "data": {
      "text/plain": [
       "10.518888888888851"
      ]
     },
     "execution_count": 36,
     "metadata": {},
     "output_type": "execute_result"
    }
   ],
   "source": [
    "df2=chipotle[chipotle['item_name'].str.contains(\"Steak\")]\n",
    "print('The average price of an item with steak is:')\n",
    "df2[\"item_price\"].mean() "
   ]
  },
  {
   "cell_type": "code",
   "execution_count": 37,
   "metadata": {},
   "outputs": [
    {
     "name": "stdout",
     "output_type": "stream",
     "text": [
      "15808.61\n",
      "7384.26\n",
      "We can see that chicken produced more revenue\n"
     ]
    }
   ],
   "source": [
    "print(df1[\"item_price\"].sum()) #chicken\n",
    "print(df2[\"item_price\"].sum()) #steak\n",
    "print('We can see that chicken produced more revenue')"
   ]
  },
  {
   "cell_type": "code",
   "execution_count": 38,
   "metadata": {},
   "outputs": [
    {
     "name": "stdout",
     "output_type": "stream",
     "text": [
      " \n",
      "Count total NaN at each column in a Chipotle data : \n",
      "\n",
      " order_id                 0\n",
      "quantity                 0\n",
      "item_name                0\n",
      "choice_description    1246\n",
      "item_price               0\n",
      "dtype: int64\n",
      "1246 missing items total; all in the choice_description column\n"
     ]
    }
   ],
   "source": [
    "print(\" \\nCount total NaN at each column in a Chipotle data : \\n\\n\", \n",
    "      chipotle.isnull().sum()) \n",
    "print('1246 missing items total; all in the choice_description column')"
   ]
  }
 ],
 "metadata": {
  "date": 1595352471.7839751,
  "download_nb": false,
  "filename": "data_clean.rst",
  "filename_with_path": "pandas/data_clean",
  "kernelspec": {
   "display_name": "Python 3",
   "language": "python",
   "name": "python3"
  },
  "language_info": {
   "codemirror_mode": {
    "name": "ipython",
    "version": 3
   },
   "file_extension": ".py",
   "mimetype": "text/x-python",
   "name": "python",
   "nbconvert_exporter": "python",
   "pygments_lexer": "ipython3",
   "version": "3.8.5"
  },
  "title": "Cleaning Data"
 },
 "nbformat": 4,
 "nbformat_minor": 4
}
