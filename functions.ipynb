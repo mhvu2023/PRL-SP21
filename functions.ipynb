{
 "cells": [
  {
   "cell_type": "markdown",
   "metadata": {},
   "source": [
    "## Exercises\n",
    "\n",
    "\n",
    "<a id='exerciselist-0'></a>\n",
    "**Exercise 1**\n",
    "\n",
    "What happens if we try different inputs in our Cobb-Douglas production\n",
    "function?"
   ]
  },
  {
   "cell_type": "code",
   "execution_count": 12,
   "metadata": {
    "hide-output": false
   },
   "outputs": [
    {
     "name": "stdout",
     "output_type": "stream",
     "text": [
      "original output is 0.567635854725238\n",
      "output scaled by gamma is 1.7029075641757139\n",
      "return to scale is 0.9999999999999999\n"
     ]
    }
   ],
   "source": [
    "#Taken from given functions in lecture\n",
    "def cobb_douglas(K2, L2): # changed dummy variable names\n",
    "\n",
    "    # Create alpha and z\n",
    "    z = 1\n",
    "    alpha = 0.33\n",
    "\n",
    "    return z * K2**alpha * L2**(1 - alpha)\n",
    "\n",
    "cobb_douglas2(1.0, 0.5)\n",
    "\n",
    "def returns_to_scale(K, L, gamma):\n",
    "    y1 = cobb_douglas(K, L)\n",
    "    y2 = cobb_douglas(gamma*K, gamma*L)\n",
    "    y_ratio = y2 / y1\n",
    "    return y_ratio / gamma\n",
    "\n",
    "# Compute returns to scale with different values of `K` and `L` and `gamma`\n",
    "print(f\"original output is {cobb_douglas(3.0,0.25)}\") # new values for K and L\n",
    "print(f\"output scaled by gamma is {cobb_douglas(9.0,0.75)}\") # new values multiplied by gamma\n",
    "print(f\"return to scale is {returns_to_scale(3.0,0.25,3.0)}\") # how values compare\n",
    "# we see that, again, gamma is 1"
   ]
  },
  {
   "cell_type": "markdown",
   "metadata": {},
   "source": [
    "([*back to text*](https://datascience.quantecon.org/#exercise-0))\n",
    "\n",
    "**Exercise 2**\n",
    "\n",
    "Define a function named `var` that takes a list (call it `x`) and\n",
    "computes the variance. This function should use the mean function that we\n",
    "defined earlier.\n",
    "\n",
    "Hint: $ \\text{variance} = \\sum_i (x_i - \\text{mean}(x))^2 $"
   ]
  },
  {
   "cell_type": "code",
   "execution_count": 13,
   "metadata": {
    "hide-output": false
   },
   "outputs": [
    {
     "name": "stdout",
     "output_type": "stream",
     "text": [
      "Variance: 108520.0\n"
     ]
    }
   ],
   "source": [
    "#Calculate mean of list before-hand and have a running static var to sum the elements of the summation\n",
    "#Test data taken from here: https://www.mathsisfun.com/data/standard-deviation.html\n",
    "x = [600, 470, 170, 430, 300]\n",
    "\n",
    "# Sample variance is really the summation divided by n-1 observations, \n",
    "# but we will observe the given formula\n",
    "def var(x):\n",
    "    mean = sum(x)/len(x)\n",
    "    summation = 0;\n",
    "    for x_i in x:\n",
    "        summation += (x_i - mean)**2\n",
    "    \n",
    "    return summation\n",
    "\n",
    "print(f\"Variance: {var(x)}\")"
   ]
  },
  {
   "cell_type": "markdown",
   "metadata": {},
   "source": [
    "([*back to text*](https://datascience.quantecon.org/#exercise-1))\n",
    "\n",
    "**Exercise 3**\n",
    "\n",
    "Redefine the `returns_to_scale` function and add a docstring.\n",
    "\n",
    "Confirm that it works by running the cell containing `returns_to_scale?` below.\n",
    "\n",
    "*Note*: You do not need to change the actual code in the function — just\n",
    "copy/paste and add a docstring in the correct line."
   ]
  },
  {
   "cell_type": "code",
   "execution_count": 14,
   "metadata": {
    "hide-output": true
   },
   "outputs": [
    {
     "data": {
      "text/plain": [
       "\u001b[1;31mSignature:\u001b[0m \u001b[0mreturns_to_scale\u001b[0m\u001b[1;33m(\u001b[0m\u001b[0mK\u001b[0m\u001b[1;33m,\u001b[0m \u001b[0mL\u001b[0m\u001b[1;33m,\u001b[0m \u001b[0mgamma\u001b[0m\u001b[1;33m)\u001b[0m\u001b[1;33m\u001b[0m\u001b[1;33m\u001b[0m\u001b[0m\n",
       "\u001b[1;31mDocstring:\u001b[0m\n",
       "Computes the value of the returns to scale for a Cobb Douglas production functions\n",
       "Takes the form R(K, L, gamma) = (cobb_douglas(K,L)/cobb_douglas(K*gamma,L*gamma))/gamma\n",
       "\u001b[1;31mFile:\u001b[0m      c:\\users\\mhvu2\\documents\\github\\prl-sp21\\<ipython-input-14-ffde4732fa15>\n",
       "\u001b[1;31mType:\u001b[0m      function\n"
      ]
     },
     "metadata": {},
     "output_type": "display_data"
    }
   ],
   "source": [
    "'''\n",
    "Kernel output may not directly show for docstrings when uploaded to Github.\n",
    "This does work directly in JupyterLab, however.\n",
    "'''\n",
    "def returns_to_scale(K, L, gamma):\n",
    "    \"\"\"\n",
    "    Computes the value of the returns to scale for a Cobb Douglas production functions\n",
    "    Takes the form R(K, L, gamma) = (cobb_douglas(K,L)/cobb_douglas(K*gamma,L*gamma))/gamma\n",
    "    \"\"\"\n",
    "    y1 = cobb_douglas(K, L)\n",
    "    y2 = cobb_douglas(gamma*K, gamma*L)\n",
    "    y_ratio = y2 / y1\n",
    "    return y_ratio / gamma\n",
    "    \n",
    "returns_to_scale?"
   ]
  },
  {
   "cell_type": "markdown",
   "metadata": {},
   "source": [
    "([*back to text*](https://datascience.quantecon.org/#exercise-2))\n",
    "\n",
    "**Exercise 4**\n",
    "\n",
    "Experiment with the `sep` and `end` arguments to the `print` function.\n",
    "\n",
    "These can *only* be set by name.\n",
    "\n",
    "> "
   ]
  },
  {
   "cell_type": "code",
   "execution_count": 16,
   "metadata": {
    "hide-output": false
   },
   "outputs": [
    {
     "name": "stdout",
     "output_type": "stream",
     "text": [
      "1-2-3-4!"
     ]
    }
   ],
   "source": [
    "'''\n",
    "QUICK GUIDE TO KEYWORD ARGUMENTS:\n",
    "For some arbitrary function with header as follows:\n",
    "\n",
    "def foo(bar, foobar):\n",
    "\n",
    "function name foo has arguments bar and foobar, normally when you call the function, you would call it as\n",
    "foo(1, 2)\n",
    "with bar being assigned the 1 and foobar being assigned the 2.\n",
    "\n",
    "However, with keyword arguments in function calls, the order does not have to be static as shown here:\n",
    "foo(foobar=2, bar=1)\n",
    "As shown here, the order is reversed with foobar technically being passed first in the listed arguments,\n",
    "but since 2 is explicitly assigned via keyword argument, python will correctly assign the values and is functionally\n",
    "identical to the first example.\n",
    "\n",
    "Here is a variation of print with keyword argument sep as '-' \n",
    "instead of space and '!' instead of CRLF '\\n' for end keyword argument\n",
    "'''\n",
    "print(1, 2, 3, 4, sep='-', end='!')"
   ]
  },
  {
   "cell_type": "markdown",
   "metadata": {},
   "source": [
    "\n",
    "([*back to text*](https://datascience.quantecon.org/#exercise-3))"
   ]
  }
 ],
 "metadata": {
  "date": 1596739281.82328,
  "filename": "functions.rst",
  "kernelspec": {
   "display_name": "Python 3",
   "language": "python",
   "name": "python3"
  },
  "language_info": {
   "codemirror_mode": {
    "name": "ipython",
    "version": 3
   },
   "file_extension": ".py",
   "mimetype": "text/x-python",
   "name": "python",
   "nbconvert_exporter": "python",
   "pygments_lexer": "ipython3",
   "version": "3.8.7"
  },
  "next_doc": {
   "link": "../scientific/index",
   "title": "Scientific Computing"
  },
  "prev_doc": {
   "link": "control_flow",
   "title": "Control Flow"
  },
  "title": "Functions"
 },
 "nbformat": 4,
 "nbformat_minor": 4
}
