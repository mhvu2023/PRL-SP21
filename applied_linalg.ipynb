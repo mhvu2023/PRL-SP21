{
 "cells": [
  {
   "cell_type": "markdown",
   "metadata": {},
   "source": [
    "# Applied Linear Algebra\n",
    "\n",
    "**Prerequisites**\n",
    "\n",
    "- [Introduction to Numpy](numpy_arrays.ipynb)  \n",
    "\n",
    "\n",
    "**Outcomes**\n",
    "\n",
    "- Refresh some important linear algebra concepts  \n",
    "- Apply concepts to understanding unemployment and pricing portfolios  \n",
    "- Use `numpy` to do linear algebra operations  "
   ]
  },
  {
   "cell_type": "markdown",
   "metadata": {},
   "source": [
    "## Outline\n",
    "\n",
    "- [Applied Linear Algebra](#Applied-Linear-Algebra)  \n",
    "  - [Vectors and Matrices](#Vectors-and-Matrices)  \n",
    "  - [Portfolios](#Portfolios)  \n",
    "  - [Exercises](#Exercises)  "
   ]
  },
  {
   "cell_type": "code",
   "execution_count": 2,
   "metadata": {
    "hide-output": false
   },
   "outputs": [],
   "source": [
    "# Uncomment following line to install on colab\n",
    "#! pip install qeds"
   ]
  },
  {
   "cell_type": "code",
   "execution_count": 3,
   "metadata": {
    "hide-output": false
   },
   "outputs": [],
   "source": [
    "# import numpy to prepare for code below\n",
    "import numpy as np\n",
    "import matplotlib.pyplot as plt\n",
    "\n",
    "%matplotlib inline\n",
    "# activate plot theme\n",
    "import qeds\n",
    "qeds.themes.mpl_style();"
   ]
  },
  {
   "cell_type": "markdown",
   "metadata": {},
   "source": [
    "## Vectors and Matrices"
   ]
  },
  {
   "cell_type": "markdown",
   "metadata": {},
   "source": [
    "### Vectors\n",
    "\n",
    "A (N-element) vector is $ N $ numbers stored together.\n",
    "\n",
    "We typically write a vector as $ x = \\begin{bmatrix} x_1 \\\\ x_2 \\\\ \\dots \\\\ x_N \\end{bmatrix} $.\n",
    "\n",
    "In numpy terms, a vector is a 1-dimensional array.\n",
    "\n",
    "We often think of 2-element vectors as directional lines in the XY axes.\n",
    "\n",
    "This image, from the [QuantEcon Python lecture](https://lectures.quantecon.org/py/linear_algebra.html#)\n",
    "is an example of what this might look like for the vectors `(-4, 3.5)`, `(-3, 3)`, and `(2, 4)`.\n",
    "\n",
    "<img src=\"https://datascience.quantecon.org/assets/_static/applied_linalg_files/vector.png\" alt=\"vector.png\" style=\"\">\n",
    "\n",
    "  \n",
    "In a previous lecture, we saw some types of operations that can be done on\n",
    "vectors, such as"
   ]
  },
  {
   "cell_type": "code",
   "execution_count": 4,
   "metadata": {
    "hide-output": false
   },
   "outputs": [],
   "source": [
    "x = np.array([1, 2, 3])\n",
    "y = np.array([4, 5, 6])"
   ]
  },
  {
   "cell_type": "markdown",
   "metadata": {},
   "source": [
    "**Element-wise operations**: Let $ z = x ? y $ for some operation $ ? $, one of\n",
    "the standard *binary* operations ($ +, -, \\times, \\div $). Then we can write\n",
    "$ z = \\begin{bmatrix} x_1 ? y_1 & x_2 ? y_2 \\end{bmatrix} $. Element-wise operations require\n",
    "that $ x $ and $ y $ have the same size."
   ]
  },
  {
   "cell_type": "code",
   "execution_count": 5,
   "metadata": {
    "hide-output": false
   },
   "outputs": [
    {
     "name": "stdout",
     "output_type": "stream",
     "text": [
      "Element-wise Addition [5 7 9]\n",
      "Element-wise Subtraction [-3 -3 -3]\n",
      "Element-wise Multiplication [ 4 10 18]\n",
      "Element-wise Division [0.25 0.4  0.5 ]\n"
     ]
    }
   ],
   "source": [
    "print(\"Element-wise Addition\", x + y)\n",
    "print(\"Element-wise Subtraction\", x - y)\n",
    "print(\"Element-wise Multiplication\", x * y)\n",
    "print(\"Element-wise Division\", x / y)"
   ]
  },
  {
   "cell_type": "markdown",
   "metadata": {},
   "source": [
    "**Scalar operations**: Let $ w = a ? x $ for some operation $ ? $, one of the\n",
    "standard *binary* operations ($ +, -, \\times, \\div $). Then we can write\n",
    "$ w = \\begin{bmatrix} a ? x_1 & a ? x_2 \\end{bmatrix} $."
   ]
  },
  {
   "cell_type": "code",
   "execution_count": 6,
   "metadata": {
    "hide-output": false
   },
   "outputs": [
    {
     "name": "stdout",
     "output_type": "stream",
     "text": [
      "Scalar Addition [4 5 6]\n",
      "Scalar Subtraction [2 1 0]\n",
      "Scalar Multiplication [3 6 9]\n",
      "Scalar Division [3.  1.5 1. ]\n"
     ]
    }
   ],
   "source": [
    "print(\"Scalar Addition\", 3 + x)\n",
    "print(\"Scalar Subtraction\", 3 - x)\n",
    "print(\"Scalar Multiplication\", 3 * x)\n",
    "print(\"Scalar Division\", 3 / x)"
   ]
  },
  {
   "cell_type": "markdown",
   "metadata": {},
   "source": [
    "Another operation very frequently used in data science is the **dot product**.\n",
    "\n",
    "The dot between $ x $ and $ y $ is written $ x \\cdot y $ and is\n",
    "equal to $ \\sum_{i=1}^N x_i y_i $."
   ]
  },
  {
   "cell_type": "code",
   "execution_count": 7,
   "metadata": {
    "hide-output": false
   },
   "outputs": [
    {
     "name": "stdout",
     "output_type": "stream",
     "text": [
      "Dot product 32\n"
     ]
    }
   ],
   "source": [
    "print(\"Dot product\", np.dot(x, y))"
   ]
  },
  {
   "cell_type": "markdown",
   "metadata": {},
   "source": [
    "We can also use `@` to denote dot products (and matrix multiplication which we’ll see soon!)."
   ]
  },
  {
   "cell_type": "code",
   "execution_count": 8,
   "metadata": {
    "hide-output": false
   },
   "outputs": [
    {
     "name": "stdout",
     "output_type": "stream",
     "text": [
      "Dot product with @ 32\n"
     ]
    }
   ],
   "source": [
    "print(\"Dot product with @\", x @ y)"
   ]
  },
  {
   "cell_type": "markdown",
   "metadata": {},
   "source": [
    "\n",
    "<a id='exercise-0'></a>\n",
    "> See exercise 1 in the [*exercise list*](#exerciselist-0)"
   ]
  },
  {
   "cell_type": "code",
   "execution_count": 9,
   "metadata": {
    "hide-output": true
   },
   "outputs": [],
   "source": [
    "nA = 100\n",
    "nB = 50\n",
    "nassets = np.array([nA, nB])\n",
    "\n",
    "i = 0.05\n",
    "durationA = 6\n",
    "durationB = 4\n",
    "\n",
    "# Do your computations here\n",
    "\n",
    "# Compute price\n",
    "\n",
    "# uncomment below to see a message!\n",
    "# if condition:\n",
    "#     print(\"Alice can retire\")\n",
    "# else:\n",
    "#     print(\"Alice cannot retire yet\")"
   ]
  },
  {
   "cell_type": "markdown",
   "metadata": {},
   "source": [
    "### Matrices\n",
    "\n",
    "An $ N \\times M $ matrix can be thought of as a collection of M\n",
    "N-element vectors stacked side-by-side as columns.\n",
    "\n",
    "We write a matrix as\n",
    "\n",
    "$$\n",
    "\\begin{bmatrix} x_{11} & x_{12} & \\dots & x_{1M} \\\\\n",
    "                x_{21} & \\dots & \\dots & x_{2M} \\\\\n",
    "                \\vdots & \\vdots & \\vdots & \\vdots \\\\\n",
    "                x_{N1} & x_{N2} & \\dots & x_{NM}\n",
    "\\end{bmatrix}\n",
    "$$\n",
    "\n",
    "In numpy terms, a matrix is a 2-dimensional array.\n",
    "\n",
    "We can create a matrix by passing a list of lists to the `np.array` function."
   ]
  },
  {
   "cell_type": "code",
   "execution_count": 10,
   "metadata": {
    "hide-output": false
   },
   "outputs": [],
   "source": [
    "x = np.array([[1, 2, 3], [4, 5, 6]])\n",
    "y = np.ones((2, 3))\n",
    "z = np.array([[1, 2], [3, 4], [5, 6]])"
   ]
  },
  {
   "cell_type": "markdown",
   "metadata": {},
   "source": [
    "We can perform element-wise and scalar operations as we did with vectors. In fact, we can do\n",
    "these two operations on arrays of any dimension."
   ]
  },
  {
   "cell_type": "code",
   "execution_count": 11,
   "metadata": {
    "hide-output": false
   },
   "outputs": [
    {
     "name": "stdout",
     "output_type": "stream",
     "text": [
      "Element-wise Addition\n",
      " [[2. 3. 4.]\n",
      " [5. 6. 7.]]\n",
      "Element-wise Subtraction\n",
      " [[0. 1. 2.]\n",
      " [3. 4. 5.]]\n",
      "Element-wise Multiplication\n",
      " [[1. 2. 3.]\n",
      " [4. 5. 6.]]\n",
      "Element-wise Division\n",
      " [[1. 2. 3.]\n",
      " [4. 5. 6.]]\n",
      "Scalar Addition\n",
      " [[4 5 6]\n",
      " [7 8 9]]\n",
      "Scalar Subtraction\n",
      " [[ 2  1  0]\n",
      " [-1 -2 -3]]\n",
      "Scalar Multiplication\n",
      " [[ 3  6  9]\n",
      " [12 15 18]]\n",
      "Scalar Division\n",
      " [[3.   1.5  1.  ]\n",
      " [0.75 0.6  0.5 ]]\n"
     ]
    }
   ],
   "source": [
    "print(\"Element-wise Addition\\n\", x + y)\n",
    "print(\"Element-wise Subtraction\\n\", x - y)\n",
    "print(\"Element-wise Multiplication\\n\", x * y)\n",
    "print(\"Element-wise Division\\n\", x / y)\n",
    "\n",
    "print(\"Scalar Addition\\n\", 3 + x)\n",
    "print(\"Scalar Subtraction\\n\", 3 - x)\n",
    "print(\"Scalar Multiplication\\n\", 3 * x)\n",
    "print(\"Scalar Division\\n\", 3 / x)"
   ]
  },
  {
   "cell_type": "markdown",
   "metadata": {},
   "source": [
    "Similar to how we combine vectors with a dot product, matrices can do what we’ll call *matrix\n",
    "multiplication*.\n",
    "\n",
    "Matrix multiplication is effectively a generalization of dot products.\n",
    "\n",
    "**Matrix multiplication**: Let $ v = x \\cdot y $ then we can write\n",
    "$ v_{ij} = \\sum_{k=1}^N x_{ik} y_{kj} $ where $ x_{ij} $ is notation that denotes the\n",
    "element found in the ith row and jth column of the matrix $ x $.\n",
    "\n",
    "The image below from [Wikipedia](https://commons.wikimedia.org/wiki/File:Matrix_multiplication_diagram.svg),\n",
    "by Bilou, shows how matrix multiplication simplifies to a series of dot products:\n",
    "\n",
    "<img src=\"https://datascience.quantecon.org/assets/_static/applied_linalg_files/mat_mult_wiki_bilou.png\" alt=\"matmult.png\" style=\"\">\n",
    "\n",
    "  \n",
    "After looking at the math and image above, you might have realized that matrix\n",
    "multiplication requires very specific matrix shapes!\n",
    "\n",
    "For two matrices $ x, y $ to be multiplied, $ x $\n",
    "must have the same number of columns as $ y $ has rows.\n",
    "\n",
    "Formally, we require that for some integer numbers, $ M, N, $ and $ K $\n",
    "that if $ x $ is $ N \\times M $ then $ y $ must be $ M \\times\n",
    "K $.\n",
    "\n",
    "If we think of a vector as a $ 1 \\times M $ or $ M \\times 1 $ matrix, we can even do\n",
    "matrix multiplication between a matrix and a vector!\n",
    "\n",
    "Let’s see some examples of this."
   ]
  },
  {
   "cell_type": "code",
   "execution_count": 12,
   "metadata": {
    "hide-output": false
   },
   "outputs": [],
   "source": [
    "x1 = np.reshape(np.arange(6), (3, 2))\n",
    "x2 = np.array([[1, 2], [3, 4], [5, 6], [7, 8]])\n",
    "x3 = np.array([[2, 5, 2], [1, 2, 1]])\n",
    "x4 = np.ones((2, 3))\n",
    "\n",
    "y1 = np.array([1, 2, 3])\n",
    "y2 = np.array([0.5, 0.5])"
   ]
  },
  {
   "cell_type": "markdown",
   "metadata": {},
   "source": [
    "Numpy allows us to do matrix multiplication in three ways."
   ]
  },
  {
   "cell_type": "code",
   "execution_count": 13,
   "metadata": {
    "hide-output": false
   },
   "outputs": [
    {
     "name": "stdout",
     "output_type": "stream",
     "text": [
      "Using the matmul function for two matrices\n",
      "[[1. 1. 1.]\n",
      " [5. 5. 5.]\n",
      " [9. 9. 9.]]\n",
      "Using the dot function for two matrices\n",
      "[[1. 1. 1.]\n",
      " [5. 5. 5.]\n",
      " [9. 9. 9.]]\n",
      "Using @ for two matrices\n",
      "[[1. 1. 1.]\n",
      " [5. 5. 5.]\n",
      " [9. 9. 9.]]\n"
     ]
    }
   ],
   "source": [
    "print(\"Using the matmul function for two matrices\")\n",
    "print(np.matmul(x1, x4))\n",
    "print(\"Using the dot function for two matrices\")\n",
    "print(np.dot(x1, x4))\n",
    "print(\"Using @ for two matrices\")\n",
    "print(x1 @ x4)"
   ]
  },
  {
   "cell_type": "code",
   "execution_count": 14,
   "metadata": {
    "hide-output": false
   },
   "outputs": [
    {
     "name": "stdout",
     "output_type": "stream",
     "text": [
      "Using the matmul function for vec and mat\n",
      "[16 22]\n",
      "Using the dot function for vec and mat\n",
      "[16 22]\n",
      "Using @ for vec and mat\n",
      "[16 22]\n"
     ]
    }
   ],
   "source": [
    "print(\"Using the matmul function for vec and mat\")\n",
    "print(np.matmul(y1, x1))\n",
    "print(\"Using the dot function for vec and mat\")\n",
    "print(np.dot(y1, x1))\n",
    "print(\"Using @ for vec and mat\")\n",
    "print(y1 @ x1)"
   ]
  },
  {
   "cell_type": "markdown",
   "metadata": {},
   "source": [
    "Despite our options, we stick to using `@` because\n",
    "it is simplest to read and write.\n",
    "\n",
    "\n",
    "<a id='exercise-1'></a>\n",
    "> See exercise 2 in the [*exercise list*](#exerciselist-0)"
   ]
  },
  {
   "cell_type": "markdown",
   "metadata": {},
   "source": [
    "### Other Linear Algebra Concepts"
   ]
  },
  {
   "cell_type": "markdown",
   "metadata": {},
   "source": [
    "#### Transpose\n",
    "\n",
    "A matrix transpose is an operation that flips all elements of a matrix along the diagonal.\n",
    "\n",
    "More formally, the $ (i, j) $ element of $ x $ becomes the $ (j, i) $ element of\n",
    "$ x^T $.\n",
    "\n",
    "In particular, let $ x $ be given by\n",
    "\n",
    "$$\n",
    "x = \\begin{bmatrix} 1 & 2 & 3 \\\\\n",
    "                    4 & 5 & 6 \\\\\n",
    "                    7 & 8 & 9 \\\\\n",
    "    \\end{bmatrix}\n",
    "$$\n",
    "\n",
    "then $ x $ transpose, written as $ x' $, is given by\n",
    "\n",
    "$$\n",
    "x = \\begin{bmatrix} 1 & 4 & 7 \\\\\n",
    "                    2 & 5 & 8 \\\\\n",
    "                    3 & 6 & 9 \\\\\n",
    "    \\end{bmatrix}\n",
    "$$\n",
    "\n",
    "In Python, we do this by"
   ]
  },
  {
   "cell_type": "code",
   "execution_count": 15,
   "metadata": {
    "hide-output": false
   },
   "outputs": [
    {
     "name": "stdout",
     "output_type": "stream",
     "text": [
      "x transpose is\n",
      "[[1 4 7]\n",
      " [2 5 8]\n",
      " [3 6 9]]\n"
     ]
    }
   ],
   "source": [
    "x = np.array([[1, 2, 3], [4, 5, 6], [7, 8, 9]])\n",
    "\n",
    "print(\"x transpose is\")\n",
    "print(x.transpose())"
   ]
  },
  {
   "cell_type": "markdown",
   "metadata": {},
   "source": [
    "#### Identity Matrix\n",
    "\n",
    "In linear algebra, one particular matrix acts very similarly to how 1 behaves for scalar numbers.\n",
    "\n",
    "This matrix is known as the *identity matrix* and is given by\n",
    "\n",
    "$$\n",
    "I = \\begin{bmatrix} 1  & 0 & 0 & \\dots & 0 \\\\\n",
    "                    0 & 1 & 0 & \\dots & 0 \\\\\n",
    "                    \\vdots & \\vdots & \\ddots & \\vdots & \\vdots \\\\\n",
    "                    0 & 0 & 0 & \\dots & 1\n",
    "    \\end{bmatrix}\n",
    "$$\n",
    "\n",
    "As seen above, it has 1s on the diagonal and 0s everywhere else.\n",
    "\n",
    "When we multiply any matrix or vector by the identity matrix, we get the original matrix or vector\n",
    "back!\n",
    "\n",
    "Let’s see some examples."
   ]
  },
  {
   "cell_type": "code",
   "execution_count": 16,
   "metadata": {
    "hide-output": false
   },
   "outputs": [
    {
     "name": "stdout",
     "output_type": "stream",
     "text": [
      "I @ x \n",
      " [[0. 1. 2.]\n",
      " [3. 4. 5.]\n",
      " [6. 7. 8.]]\n",
      "x @ I \n",
      " [[0. 1. 2.]\n",
      " [3. 4. 5.]\n",
      " [6. 7. 8.]]\n",
      "I @ y \n",
      " [1. 2. 3.]\n",
      "y @ I \n",
      " [1. 2. 3.]\n"
     ]
    }
   ],
   "source": [
    "I = np.eye(3)\n",
    "x = np.reshape(np.arange(9), (3, 3))\n",
    "y = np.array([1, 2, 3])\n",
    "\n",
    "print(\"I @ x\", \"\\n\", I @ x)\n",
    "print(\"x @ I\", \"\\n\", x @ I)\n",
    "print(\"I @ y\", \"\\n\", I @ y)\n",
    "print(\"y @ I\", \"\\n\", y @ I)"
   ]
  },
  {
   "cell_type": "markdown",
   "metadata": {},
   "source": [
    "#### Inverse\n",
    "\n",
    "If you recall, you learned in your primary education about solving equations for certain variables.\n",
    "\n",
    "For example, you might have been given the equation\n",
    "\n",
    "$$\n",
    "3x + 7 = 16\n",
    "$$\n",
    "\n",
    "and then asked to solve for $ x $.\n",
    "\n",
    "You probably did this by subtracting 7 and then dividing by 3.\n",
    "\n",
    "Now let’s write an equation that contains matrices and vectors.\n",
    "\n",
    "$$\n",
    "\\begin{bmatrix} 1 & 2 \\\\ 3 & 1 \\end{bmatrix} \\begin{bmatrix} x_1 \\\\ x_2 \\end{bmatrix} = \\begin{bmatrix} 3 \\\\ 4 \\end{bmatrix}\n",
    "$$\n",
    "\n",
    "How would we solve for $ x = \\begin{bmatrix} x_1 \\\\ x_2 \\end{bmatrix} $?\n",
    "\n",
    "Unfortunately, there is no “matrix divide” operation that does the opposite of matrix multiplication.\n",
    "\n",
    "Instead, we first have to do what’s known as finding the inverse. We must multiply both sides by this inverse to solve.\n",
    "\n",
    "Consider some matrix $ A $.\n",
    "\n",
    "The inverse of $ A $, given by $ A^{-1} $, is a matrix such that $ A A^{-1} = I $\n",
    "where $ I $ is our identity matrix.\n",
    "\n",
    "Notice in our equation above, if we can find the inverse of\n",
    "$ \\begin{bmatrix} 1 & 2 \\\\ 3 & 1 \\end{bmatrix} $ then we can multiply both sides by the inverse\n",
    "to get\n",
    "\n",
    "$$\n",
    "\\begin{align*}\n",
    "\\begin{bmatrix} 1 & 2 \\\\ 3 & 1 \\end{bmatrix}^{-1}\\begin{bmatrix} 1 & 2 \\\\ 3 & 1 \\end{bmatrix} \\begin{bmatrix} x_1 \\\\ x_2 \\end{bmatrix} &= \\begin{bmatrix} 1 & 2 \\\\ 3 & 1 \\end{bmatrix}^{-1}\\begin{bmatrix} 3 \\\\ 4 \\end{bmatrix} \\\\\n",
    "I \\begin{bmatrix} x_1 \\\\ x_2 \\end{bmatrix} &= \\begin{bmatrix} 1 & 2 \\\\ 3 & 1 \\end{bmatrix}^{-1} \\begin{bmatrix} 3 \\\\ 4 \\end{bmatrix} \\\\\n",
    " \\begin{bmatrix} x_1 \\\\ x_2 \\end{bmatrix} &= \\begin{bmatrix} 1 & 2 \\\\ 3 & 1 \\end{bmatrix}^{-1} \\begin{bmatrix} 3 \\\\ 4 \\end{bmatrix}\n",
    "\\end{align*}\n",
    "$$\n",
    "\n",
    "Computing the inverse requires that a matrix be square and satisfy some other conditions\n",
    "(non-singularity) that are beyond the scope of this lecture.\n",
    "\n",
    "We also skip the exact details of how this inverse is computed, but, if you are interested,\n",
    "you can visit the\n",
    "[QuantEcon Linear Algebra lecture](https://lectures.quantecon.org/py/linear_algebra.html)\n",
    "for more details.\n",
    "\n",
    "We demonstrate how to compute the inverse with numpy below."
   ]
  },
  {
   "cell_type": "code",
   "execution_count": 17,
   "metadata": {
    "hide-output": false
   },
   "outputs": [
    {
     "name": "stdout",
     "output_type": "stream",
     "text": [
      "This is A inverse\n",
      "[[-0.2  0.4  0. ]\n",
      " [ 0.6 -0.2  0. ]\n",
      " [-0.3  0.1  0.5]]\n",
      "Check that A @ A inverse is I\n",
      "[[ 1.00000000e+00  0.00000000e+00  0.00000000e+00]\n",
      " [ 2.77555756e-17  1.00000000e+00  0.00000000e+00]\n",
      " [-1.38777878e-17  0.00000000e+00  1.00000000e+00]]\n"
     ]
    }
   ],
   "source": [
    "# This is a square (N x N) non-singular matrix\n",
    "A = np.array([[1, 2, 0], [3, 1, 0], [0, 1, 2]])\n",
    "\n",
    "print(\"This is A inverse\")\n",
    "\n",
    "print(np.linalg.inv(A))\n",
    "\n",
    "print(\"Check that A @ A inverse is I\")\n",
    "print(np.linalg.inv(A) @ A)"
   ]
  },
  {
   "cell_type": "markdown",
   "metadata": {},
   "source": [
    "## Portfolios\n",
    "\n",
    "In [control flow](../python_fundamentals/control_flow.ipynb), we learned to value a stream of payoffs from a single\n",
    "asset.\n",
    "\n",
    "In this section, we generalize this to value a portfolio of multiple assets, or an asset\n",
    "that has easily separable components.\n",
    "\n",
    "Vectors and inner products give us a convenient way to organize and calculate these payoffs."
   ]
  },
  {
   "cell_type": "markdown",
   "metadata": {},
   "source": [
    "### Static Payoffs\n",
    "\n",
    "As an example, consider a portfolio with 4 units of asset A, 2.5 units of asset B, and 8 units of\n",
    "asset C.\n",
    "\n",
    "At a particular point in time, the assets pay $ 3 $/unit of asset A, $ 5 $/unit of B, and\n",
    "$ 1.10 $/unit of C.\n",
    "\n",
    "First, calculate the value of this portfolio directly with a sum."
   ]
  },
  {
   "cell_type": "code",
   "execution_count": 18,
   "metadata": {
    "hide-output": false
   },
   "outputs": [
    {
     "data": {
      "text/plain": [
       "33.3"
      ]
     },
     "execution_count": 18,
     "metadata": {},
     "output_type": "execute_result"
    }
   ],
   "source": [
    "4.0 * 3.0 + 2.5 * 5.0 + 8 * 1.1"
   ]
  },
  {
   "cell_type": "markdown",
   "metadata": {},
   "source": [
    "We can make this more convenient and general by using arrays for accounting, and then sum then in a\n",
    "loop."
   ]
  },
  {
   "cell_type": "code",
   "execution_count": 19,
   "metadata": {
    "hide-output": false
   },
   "outputs": [
    {
     "data": {
      "text/plain": [
       "33.3"
      ]
     },
     "execution_count": 19,
     "metadata": {},
     "output_type": "execute_result"
    }
   ],
   "source": [
    "import numpy as np\n",
    "x = np.array([4.0, 2.5, 8.0]) # portfolio units\n",
    "y = np.array([3.0, 5.0, 1.1]) # payoffs\n",
    "n = len(x)\n",
    "p = 0.0\n",
    "for i in range(n): # i.e. 0, 1, 2\n",
    "    p = p + x[i] * y[i]\n",
    "\n",
    "p"
   ]
  },
  {
   "cell_type": "markdown",
   "metadata": {},
   "source": [
    "The above would have worked with `x` and `y` as `list` rather than `np.array`.\n",
    "\n",
    "Note that the general pattern above is the sum.\n",
    "\n",
    "$$\n",
    "p = \\sum_{i=0}^{n-1} x_i y_i = x \\cdot y\n",
    "$$\n",
    "\n",
    "This is an inner product as implemented by the `np.dot` function"
   ]
  },
  {
   "cell_type": "code",
   "execution_count": 20,
   "metadata": {
    "hide-output": false
   },
   "outputs": [
    {
     "data": {
      "text/plain": [
       "33.3"
      ]
     },
     "execution_count": 20,
     "metadata": {},
     "output_type": "execute_result"
    }
   ],
   "source": [
    "np.dot(x, y)"
   ]
  },
  {
   "cell_type": "markdown",
   "metadata": {},
   "source": [
    "This approach allows us to simultaneously price different portfolios by stacking them in a matrix and using the dot product."
   ]
  },
  {
   "cell_type": "code",
   "execution_count": 21,
   "metadata": {
    "hide-output": false
   },
   "outputs": [
    {
     "name": "stdout",
     "output_type": "stream",
     "text": [
      "Calculating separately\n",
      "[33.3, 13.5]\n",
      "Calculating with matrices\n",
      "[33.3 13.5]\n"
     ]
    }
   ],
   "source": [
    "y = np.array([3.0, 5.0, 1.1]) # payoffs\n",
    "x1 = np.array([4.0, 2.5, 8.0]) # portfolio 1\n",
    "x2 = np.array([2.0, 1.5, 0.0]) # portfolio 2\n",
    "X = np.array((x1, x2))\n",
    "\n",
    "# calculate with inner products\n",
    "p1 = np.dot(X[0,:], y)\n",
    "p2 = np.dot(X[1,:], y)\n",
    "print(\"Calculating separately\")\n",
    "print([p1, p2])\n",
    "\n",
    "# or with a matrix multiplication\n",
    "print(\"Calculating with matrices\")\n",
    "P = X @ y\n",
    "print(P)"
   ]
  },
  {
   "cell_type": "markdown",
   "metadata": {},
   "source": [
    "### NPV of a Portfolio\n",
    "\n",
    "If a set of assets has payoffs over time, we can calculate the NPV of that portfolio in a similar way to the calculation in\n",
    "[Net Present Value](../python_fundamentals/control_flow.ipynb#npv).\n",
    "\n",
    "First, consider an example with an asset with claims to multiple streams of payoffs which are easily\n",
    "separated.\n",
    "\n",
    "You are considering purchasing an oilfield with 2 oil wells, named `A` and `B` where\n",
    "\n",
    "- Both oilfields have a finite lifetime of 20 years.  \n",
    "- In oilfield `A`, you can extract 5 units in the first year, and production in each subsequent year\n",
    "  decreases by $ 20\\% $ of the previous year so that\n",
    "  $ x^A_0 = 5, x^A_1 = 0.8 \\times 5, x^A_2 = 0.8^2 \\times 5, \\ldots $  \n",
    "- In oilfield `B`, you can extract 2 units in the first year, but production only drops by\n",
    "  $ 10\\% $ each year (i.e. $ x^B_0 = 2, x^B_1 = 0.9 \\times 2, x^B_2 = 0.9^2 \\times 2, \\ldots $  \n",
    "- Future cash flows are discounted at a rate of $ r = 0.05 $ each year.  \n",
    "- The price for oil in both wells are normalized as $ p_A = p_B = 1 $.  \n",
    "\n",
    "\n",
    "These traits can be separated so that the price you would be willing to pay is the sum of the two, where\n",
    "we define $ \\gamma_A = 0.8, \\gamma_B = 0.9 $.\n",
    "\n",
    "$$\n",
    "\\begin{aligned}\n",
    "V_A &= \\sum_{t=0}^{T-1} \\left(\\frac{1}{1 + r}\\right)^t p_A y^A_t = \\sum_{t=0}^{T-1} \\left(\\frac{1}{1 + r}\\right)^t (p_A \\, x_{A0}\\, \\gamma_A^t)\\\\\n",
    "V_B &= \\sum_{t=0}^{T-1} \\left(\\frac{1}{1 + r}\\right)^t p_B y^B_t = \\sum_{t=0}^{T-1} \\left(\\frac{1}{1 + r}\\right)^t (p_B \\, x_{B0}\\, \\gamma_B^t)\\\\\n",
    "V &= V_A + V_B\n",
    "\\end{aligned}\n",
    "$$\n",
    "\n",
    "Let’s compute the value of each of these assets using the dot product.\n",
    "\n",
    "The first question to ask yourself is: “For which two vectors should I compute the dot product?”\n",
    "\n",
    "It turns out that this depends on which two vectors you’d like to create.\n",
    "\n",
    "One reasonable choice is presented in the code below."
   ]
  },
  {
   "cell_type": "code",
   "execution_count": 22,
   "metadata": {
    "hide-output": false
   },
   "outputs": [
    {
     "name": "stdout",
     "output_type": "stream",
     "text": [
      "The npv of oilfields is 34.267256487477496\n"
     ]
    }
   ],
   "source": [
    "# Depreciation of production rates\n",
    "gamma_A = 0.80\n",
    "gamma_B = 0.90\n",
    "\n",
    "# Interest rate discounting\n",
    "r = 0.05\n",
    "discount = np.array([(1 / (1+r))**t for t in range(20)])\n",
    "\n",
    "# Let's first create arrays that have the production of each oilfield\n",
    "oil_A = 5 * np.array([gamma_A**t for t in range(20)])\n",
    "oil_B = 2 * np.array([gamma_B**t for t in range(20)])\n",
    "oilfields = np.array([oil_A, oil_B])\n",
    "\n",
    "# Use matrix multiplication to get discounted sum of oilfield values and then sum\n",
    "# the two values\n",
    "Vs = oilfields @ discount\n",
    "\n",
    "print(f\"The npv of oilfields is {Vs.sum()}\")"
   ]
  },
  {
   "cell_type": "markdown",
   "metadata": {},
   "source": [
    "Now consider the approximation where instead of the oilfields having a finite lifetime of 20 years,\n",
    "we let them produce forever, i.e. $ T = \\infty $.\n",
    "\n",
    "With a little algebra,\n",
    "\n",
    "$$\n",
    "V_A = p_A \\sum_{t=0}^{\\infty}\\left(\\frac{1}{1 + r}\\right)^t (x_{A0} \\gamma_A^t) = x_{A0}\\sum_{t=0}^{\\infty}\\left(\\frac{\\gamma_A}{1 + r}\\right)^t\n",
    "$$\n",
    "\n",
    "And, using the infinite sum formula from [Control Flow](../python_fundamentals/control_flow.ipynb) (i.e. $ \\sum_{t=0}^{\\infty}\\beta^t = (1 - \\beta)^{-1} $)\n",
    "\n",
    "$$\n",
    "= \\frac{p_A x_{A0}}{1 - \\left(\\gamma_A\\frac{1}{1 + r} \\right)}\n",
    "$$\n",
    "\n",
    "The $ V_B $ is defined symmetrically.\n",
    "\n",
    "How different is this infinite horizon approximation from the $ T = 20 $ version, and why?\n",
    "\n",
    "Now, let’s compute the $ T = \\infty $ version of the net present value and make a graph to help\n",
    "us see how many periods are needed to approach the infinite horizon value."
   ]
  },
  {
   "cell_type": "code",
   "execution_count": 23,
   "metadata": {
    "hide-output": false
   },
   "outputs": [
    {
     "data": {
      "image/png": "[encoded data removed]",
      "text/plain": [
       "<Figure size 432x288 with 1 Axes>"
      ]
     },
     "metadata": {},
     "output_type": "display_data"
    }
   ],
   "source": [
    "# Depreciation of production rates\n",
    "gamma_A = 0.80\n",
    "gamma_B = 0.90\n",
    "\n",
    "# Interest rate discounting\n",
    "r = 0.05\n",
    "\n",
    "\n",
    "def infhor_NPV_oilfield(starting_output, gamma, r):\n",
    "    beta = gamma / (1 + r)\n",
    "    return starting_output / (1 - beta)\n",
    "\n",
    "\n",
    "def compute_NPV_oilfield(starting_output, gamma, r, T):\n",
    "    outputs = starting_output * np.array([gamma**t for t in range(T)])\n",
    "    discount = np.array([(1 / (1+r))**t for t in range(T)])\n",
    "\n",
    "    npv = np.dot(outputs, discount)\n",
    "\n",
    "    return npv\n",
    "\n",
    "Ts = np.arange(2, 75)\n",
    "\n",
    "NPVs_A = np.array([compute_NPV_oilfield(5, gamma_A, r, t) for t in Ts])\n",
    "NPVs_B = np.array([compute_NPV_oilfield(2, gamma_B, r, t) for t in Ts])\n",
    "\n",
    "NPVs_T = NPVs_A + NPVs_B\n",
    "NPV_oo = infhor_NPV_oilfield(5, gamma_A, r) + infhor_NPV_oilfield(2, gamma_B, r)\n",
    "\n",
    "fig, ax = plt.subplots()\n",
    "\n",
    "ax.set_title(\"NPV with Varying T\")\n",
    "ax.set_ylabel(\"NPV\")\n",
    "\n",
    "ax.plot(Ts, NPVs_A + NPVs_B)\n",
    "ax.hlines(NPV_oo, Ts[0], Ts[-1], color=\"k\", linestyle=\"--\")  # Plot infinite horizon value\n",
    "\n",
    "ax.spines[\"right\"].set_visible(False)\n",
    "ax.spines[\"top\"].set_visible(False)"
   ]
  },
  {
   "cell_type": "markdown",
   "metadata": {},
   "source": [
    "It is also worth noting that the computation of the infinite horizon net present value can be\n",
    "simplified even further by using matrix multiplication. That is, the formula given above is\n",
    "equivalent to\n",
    "\n",
    "$$\n",
    "V = \\begin{bmatrix}p_A & p_B \\end{bmatrix} \\cdot \\sum_{t=0}^{\\infty} \\left(\\left(\\frac{1}{1 + r}\\right)^t \\begin{bmatrix} \\gamma_A & 0 \\\\ 0 & \\gamma_B \\end{bmatrix}^t \\cdot x_0\\right)\n",
    "$$\n",
    "\n",
    "and where $ x_0 = \\begin{bmatrix} x_{A0} \\\\ x_{B0} \\end{bmatrix} $.\n",
    "\n",
    "We recognize that this equation is of the form\n",
    "\n",
    "$$\n",
    "V = G \\sum_{t=0}^{\\infty} \\left(\\frac{1}{1 + r}\\right)^t A^t x_0\n",
    "$$\n",
    "\n",
    "Without proof, and given important assumptions on $ \\frac{1}{1 + r} $ and $ A $, this\n",
    "equation reduces to\n",
    "\n",
    "\n",
    "<a id='equation-eq-deterministic-asset-pricing'></a>\n",
    "$$\n",
    "V = G \\left(I - \\frac{1}{1+r} A\\right)^{-1} x_0 \\tag{1}\n",
    "$$\n",
    "\n",
    "Using the matrix inverse, where `I` is the identity matrix."
   ]
  },
  {
   "cell_type": "code",
   "execution_count": 24,
   "metadata": {
    "hide-output": false
   },
   "outputs": [
    {
     "name": "stdout",
     "output_type": "stream",
     "text": [
      "34.99999999999999\n"
     ]
    }
   ],
   "source": [
    "p_A = 1.0\n",
    "p_B = 1.0\n",
    "G = np.array([p_A, p_B])\n",
    "\n",
    "r = 0.05\n",
    "beta = 1 / (1 + r)\n",
    "\n",
    "gamma_A = 0.80\n",
    "gamma_B = 0.90\n",
    "A = np.array([[gamma_A, 0], [0, gamma_B]])\n",
    "\n",
    "x_0 = np.array([5, 2])\n",
    "\n",
    "# Compute with matrix formula\n",
    "NPV_mf = G @ np.linalg.inv(np.eye(2) - beta*A) @ x_0\n",
    "\n",
    "print(NPV_mf)"
   ]
  },
  {
   "cell_type": "markdown",
   "metadata": {},
   "source": [
    "Note: While our matrix above was very simple, this approach works for much more\n",
    "complicated `A` matrices as long as we can write $ x_t $ using $ A $ and $ x_0 $ as\n",
    "$ x_t = A^t x_0 $ (For an advanced description of this topic, adding randomness, read about\n",
    "linear state-space models with Python <https://lectures.quantecon.org/py/linear_models.html>)."
   ]
  },
  {
   "cell_type": "markdown",
   "metadata": {},
   "source": [
    "### Unemployment Dynamics\n",
    "\n",
    "Consider an economy where in any given year, $ \\alpha = 5\\% $ of workers lose their jobs and\n",
    "$ \\phi = 10\\% $ of unemployed workers find jobs.\n",
    "\n",
    "Define the vector $ x_0 = \\begin{bmatrix} 900,000 & 100,000 \\end{bmatrix} $ as the number of\n",
    "employed and unemployed workers (respectively) at time $ 0 $ in the economy.\n",
    "\n",
    "Our goal is to determine the dynamics of unemployment in this economy.\n",
    "\n",
    "First, let’s define the matrix.\n",
    "\n",
    "$$\n",
    "A = \\begin{bmatrix} 1 - \\alpha & \\alpha \\\\ \\phi & 1 - \\phi \\end{bmatrix}\n",
    "$$\n",
    "\n",
    "Note that with this definition, we can describe the evolution of employment and unemployment\n",
    "from $ x_0 $ to $ x_1 $ using linear algebra.\n",
    "\n",
    "$$\n",
    "x_1 = \\begin{bmatrix} (1 - \\alpha) 900,000 + \\phi 100,000 \\\\ \\alpha 900,000 + (1-\\phi) 100,000\\end{bmatrix} = A' x_0\n",
    "$$\n",
    "\n",
    "However, since the transitions do not change over time, we can use this to describe the evolution\n",
    "from any arbitrary time $ t $, so that\n",
    "\n",
    "$$\n",
    "x_{t+1} = A' x_t\n",
    "$$\n",
    "\n",
    "Let’s code up a python function that will let us track the evolution of unemployment over time."
   ]
  },
  {
   "cell_type": "code",
   "execution_count": 25,
   "metadata": {
    "hide-output": false
   },
   "outputs": [],
   "source": [
    "phi = 0.1\n",
    "alpha = 0.05\n",
    "\n",
    "x0 = np.array([900_000, 100_000])\n",
    "\n",
    "A = np.array([[1-alpha, alpha], [phi, 1-phi]])\n",
    "\n",
    "def simulate(x0, A, T=10):\n",
    "    \"\"\"\n",
    "    Simulate the dynamics of unemployment for T periods starting from x0\n",
    "    and using values of A for probabilities of moving between employment\n",
    "    and unemployment\n",
    "    \"\"\"\n",
    "    nX = x0.shape[0]\n",
    "    out = np.zeros((T, nX))\n",
    "    out[0, :] = x0\n",
    "\n",
    "    for t in range(1, T):\n",
    "        out[t, :] = A.T @ out[t-1, :]\n",
    "\n",
    "    return out"
   ]
  },
  {
   "cell_type": "markdown",
   "metadata": {},
   "source": [
    "Let’s use this function to plot unemployment and employment levels for 10 periods."
   ]
  },
  {
   "cell_type": "code",
   "execution_count": 26,
   "metadata": {
    "hide-output": false
   },
   "outputs": [
    {
     "data": {
      "text/plain": [
       "<matplotlib.axes._subplots.AxesSubplot at 0x7f288745c850>"
      ]
     },
     "execution_count": 26,
     "metadata": {},
     "output_type": "execute_result"
    },
    {
     "data": {
      "image/png": "[encoded data removed]",
      "text/plain": [
       "<Figure size 432x288 with 1 Axes>"
      ]
     },
     "metadata": {},
     "output_type": "display_data"
    }
   ],
   "source": [
    "def plot_simulation(x0, A, T=100):\n",
    "    X = simulate(x0, A, T)\n",
    "    fig, ax = plt.subplots()\n",
    "    ax.plot(X[:, 0])\n",
    "    ax.plot(X[:, 1])\n",
    "    ax.set_xlabel(\"t\")\n",
    "    ax.legend([\"Employed\", \"Unemployed\"])\n",
    "    return ax\n",
    "\n",
    "plot_simulation(x0, A, 50)"
   ]
  },
  {
   "cell_type": "markdown",
   "metadata": {},
   "source": [
    "Notice that the levels of unemployed an employed workers seem to be heading to constant numbers.\n",
    "\n",
    "We refer to this phenomenon as *convergence* because the values appear to converge to a constant\n",
    "number.\n",
    "\n",
    "Let’s check that the values are permanently converging."
   ]
  },
  {
   "cell_type": "code",
   "execution_count": 27,
   "metadata": {
    "hide-output": false
   },
   "outputs": [
    {
     "data": {
      "text/plain": [
       "<matplotlib.axes._subplots.AxesSubplot at 0x7f28873eedf0>"
      ]
     },
     "execution_count": 27,
     "metadata": {},
     "output_type": "execute_result"
    },
    {
     "data": {
      "image/png": "[encoded data removed]",
      "text/plain": [
       "<Figure size 432x288 with 1 Axes>"
      ]
     },
     "metadata": {},
     "output_type": "display_data"
    }
   ],
   "source": [
    "plot_simulation(x0, A, 5000)"
   ]
  },
  {
   "cell_type": "markdown",
   "metadata": {},
   "source": [
    "The convergence of this system is a property determined by the matrix $ A $.\n",
    "\n",
    "The long-run distribution of employed and unemployed workers is equal to the [left-eigenvector](https://en.wikipedia.org/wiki/Eigenvalues_and_eigenvectors)\n",
    "of $ A' $, corresponding to the eigenvalue equal to 1.\n",
    "\n",
    "Let’s have numpy compute the eigenvalues and eigenvectors and compare the results to our simulated results above:"
   ]
  },
  {
   "cell_type": "code",
   "execution_count": 28,
   "metadata": {
    "hide-output": false
   },
   "outputs": [
    {
     "name": "stdout",
     "output_type": "stream",
     "text": [
      "We are looking for eigenvalue 0\n"
     ]
    }
   ],
   "source": [
    "eigvals, eigvecs = np.linalg.eig(A.T)\n",
    "for i in range(len(eigvals)):\n",
    "    if eigvals[i] == 1:\n",
    "        which_eig = i\n",
    "        break\n",
    "\n",
    "print(f\"We are looking for eigenvalue {which_eig}\")"
   ]
  },
  {
   "cell_type": "markdown",
   "metadata": {},
   "source": [
    "Now let’s look at the corresponding eigenvector:"
   ]
  },
  {
   "cell_type": "code",
   "execution_count": 29,
   "metadata": {
    "hide-output": false
   },
   "outputs": [
    {
     "name": "stdout",
     "output_type": "stream",
     "text": [
      "The distribution of workers is given by [0.66666667 0.33333333]\n"
     ]
    }
   ],
   "source": [
    "dist = eigvecs[:, which_eig]\n",
    "\n",
    "# need to divide by sum so it adds to 1\n",
    "dist /= dist.sum()\n",
    "\n",
    "print(f\"The distribution of workers is given by {dist}\")"
   ]
  },
  {
   "cell_type": "markdown",
   "metadata": {},
   "source": [
    "\n",
    "<a id='exercise-2'></a>\n",
    "> See exercise 3 in the [*exercise list*](#exerciselist-0)"
   ]
  },
  {
   "cell_type": "markdown",
   "metadata": {},
   "source": [
    "## Exercises\n",
    "\n",
    "\n",
    "<a id='exerciselist-0'></a>\n",
    "**Exercise 1**\n",
    "\n",
    "Alice is a stock broker who owns two types of assets: A and B. She owns 100\n",
    "units of asset A and 50 units of asset B. The current interest rate is 5%.\n",
    "Each of the A assets have a remaining duration of 6 years and pay\n",
    "\\\\$1500 each year, while each of the B assets have a remaining duration\n",
    "of 4 years and pay \\\\$500 each year. Alice would like to retire if she\n",
    "can sell her assets for more than \\\\$500,000. Use vector addition, scalar\n",
    "multiplication, and dot products to determine whether she can retire.\n",
    "\n",
    "([*back to text*](#exercise-0))\n",
    "\n",
    "**Exercise 2**\n",
    "\n",
    "Which of the following operations will work and which will\n",
    "create errors because of size issues?\n",
    "\n",
    "Test out your intuitions in the code cell below"
   ]
  },
  {
   "cell_type": "markdown",
   "metadata": {
    "hide-output": false
   },
   "source": [
    "```python\n",
    "x1 @ x2\n",
    "x2 @ x1\n",
    "x2 @ x3\n",
    "x3 @ x2\n",
    "x1 @ x3\n",
    "x4 @ y1\n",
    "x4 @ y2\n",
    "y1 @ x4\n",
    "y2 @ x4\n",
    "```\n"
   ]
  },
  {
   "cell_type": "code",
   "execution_count": 35,
   "metadata": {
    "hide-output": false
   },
   "outputs": [
    {
     "name": "stdout",
     "output_type": "stream",
     "text": [
      "[1. 1. 1.]\n"
     ]
    }
   ],
   "source": [
    "# testing area\n",
    "\n",
    "#(x1 @ x2) works\n",
    "#(x2 @ x1) works\n",
    "#(x2 @ x3) error\n",
    "#(x3 @ x2) works\n",
    "#(x1 @ x3) error\n",
    "#(x4 @ y1) works\n",
    "#(x4 @ y2) error\n",
    "#(y1 @ x4) works\n",
    "#(y2 @ x4) works"
   ]
  },
  {
   "cell_type": "markdown",
   "metadata": {},
   "source": [
    "([*back to text*](#exercise-1))\n",
    "\n",
    "**Exercise 3**\n",
    "\n",
    "Compare the distribution above to the final values of a long simulation.\n",
    "\n",
    "If you multiply the distribution by 1,000,000 (the number of workers), do you get (roughly) the same number as the simulation?"
   ]
  },
  {
   "cell_type": "code",
   "execution_count": 63,
   "metadata": {
    "hide-output": false
   },
   "outputs": [
    {
     "name": "stdout",
     "output_type": "stream",
     "text": [
      "[666666.67, 333333.32999999996]\n"
     ]
    }
   ],
   "source": [
    "# your code here\n",
    "distribution=[0.66666667,0.33333333]\n",
    "multiplied_dist=[element*1000000 for element in distribution]\n",
    "print(multiplied_dist)\n",
    "#Yes"
   ]
  },
  {
   "cell_type": "markdown",
   "metadata": {},
   "source": [
    "([*back to text*](#exercise-2))"
   ]
  },
  {
   "cell_type": "code",
   "execution_count": 52,
   "metadata": {},
   "outputs": [
    {
     "name": "stdout",
     "output_type": "stream",
     "text": [
      "Alice cannot retire yet\n",
      "191625.0\n",
      "Alice cannot retire yet\n",
      "402891.5625\n",
      "Alice can retire\n",
      "635812.94765625\n",
      "Alice can retire\n",
      "892608.7747910157\n"
     ]
    }
   ],
   "source": [
    "#Exercise 1\n",
    "nA = 100\n",
    "nB = 50\n",
    "nassets = np.array([nA, nB])\n",
    "n=len(nassets)\n",
    "payoff=np.array([1500,500])\n",
    "i = 0.05\n",
    "durationA = 6\n",
    "durationB = 4\n",
    "value=0\n",
    "if durationA<durationB:\n",
    "    years=durationA\n",
    "else:\n",
    "    years=durationB\n",
    "for year in range(years):\n",
    "    for j in range(n):\n",
    "        value=value+nassets[j]*payoff[j]\n",
    "        value=value*1.05\n",
    "    if value>=500000:\n",
    "        print(\"Alice can retire\")\n",
    "        print(value)\n",
    "    else:\n",
    "        print(\"Alice cannot retire yet\")\n",
    "        print(value)\n",
    "# Do your computations here\n",
    "\n",
    "# Compute price\n",
    "\n",
    "# uncomment below to see a message!\n",
    "# if condition:\n",
    "#     print(\"Alice can retire\")\n",
    "# else:\n",
    "#     print(\"Alice cannot retire yet\")"
   ]
  },
  {
   "cell_type": "code",
   "execution_count": null,
   "metadata": {},
   "outputs": [],
   "source": []
  },
  {
   "cell_type": "code",
   "execution_count": null,
   "metadata": {},
   "outputs": [],
   "source": []
  }
 ],
 "metadata": {
  "date": 1595457341.599183,
  "download_nb": false,
  "filename": "applied_linalg.rst",
  "filename_with_path": "scientific/applied_linalg",
  "kernelspec": {
   "display_name": "Python 3",
   "language": "python",
   "name": "python3"
  },
  "language_info": {
   "codemirror_mode": {
    "name": "ipython",
    "version": 3
   },
   "file_extension": ".py",
   "mimetype": "text/x-python",
   "name": "python",
   "nbconvert_exporter": "python",
   "pygments_lexer": "ipython3",
   "version": "3.8.5"
  },
  "title": "Applied Linear Algebra"
 },
 "nbformat": 4,
 "nbformat_minor": 4
}
