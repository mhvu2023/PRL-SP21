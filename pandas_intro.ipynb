{
 "cells": [
  {
   "cell_type": "code",
   "execution_count": 2,
   "metadata": {},
   "outputs": [],
   "source": [
    "import pandas as pd\n",
    "import qeds"
   ]
  },
  {
   "cell_type": "markdown",
   "metadata": {},
   "source": [
    "## Exercises\n",
    "\n",
    "\n",
    "<a id='exerciselist-0'></a>\n",
    "**Exercise 1**\n",
    "\n",
    "For each of the following exercises, we recommend reading the documentation\n",
    "for help.\n",
    "\n",
    "- Display only the first 2 elements of the Series using the `.head` method.  \n",
    "- Using the `plot` method, make a bar plot.  \n",
    "- Use `.loc` to select the lowest/highest unemployment rate shown in the Series.  \n",
    "- Run the code `unemp.dtype` below. What does it give you? Where do you think it comes from?  \n",
    "\n",
    "\n",
    "([*back to text*](https://datascience.quantecon.org/#exercise-0))\n",
    "\n",
    "**Exercise 2**\n",
    "\n",
    "For each of the following, we recommend reading the documentation for help.\n",
    "\n",
    "- Use introspection (or google-fu) to find a way to obtain a list with\n",
    "  all of the column names in `unemp_region`.  \n",
    "- Using the `plot` method, make a bar plot. What does it look like\n",
    "  now?  \n",
    "- Use `.loc` to select the the unemployment data for the\n",
    "  `NorthEast` and `West` for the years 1995, 2005, 2011, and 2015.  \n",
    "- Run the code `unemp_region.dtypes` below. What does it give you?\n",
    "  How does this compare with `unemp.dtype`?  \n",
    "\n",
    "\n",
    "([*back to text*](https://datascience.quantecon.org/#exercise-1))"
   ]
  },
  {
   "cell_type": "code",
   "execution_count": 4,
   "metadata": {},
   "outputs": [
    {
     "name": "stdout",
     "output_type": "stream",
     "text": [
      "1995    5.6\n",
      "1997    5.3\n",
      "Name: Unemployment, dtype: float64\n",
      "\n",
      "Using loc\n",
      "The max unemployment rate was 9.1 in 2011.\n",
      "The min unemployment rate was 4.2 in 2001.\n",
      "\n",
      "Using max and min\n",
      "The max unemployment rate was 9.1 in 2011.\n",
      "The min unemployment rate was 4.2 in 2001.\n",
      "\n",
      "Data type for Series: float64\n"
     ]
    },
    {
     "data": {
      "image/png": "[encoded data removed]",
      "text/plain": [
       "<Figure size 432x288 with 1 Axes>"
      ]
     },
     "metadata": {
      "needs_background": "light"
     },
     "output_type": "display_data"
    }
   ],
   "source": [
    "#Exercise 1\n",
    "#Unemployment series pulled from earlier code snippet\n",
    "values = [5.6, 5.3, 4.3, 4.2, 5.8, 5.3, 4.6, 7.8, 9.1, 8.0, 5.7]\n",
    "years = list(range(1995, 2017, 2))\n",
    "\n",
    "unemp = pd.Series(data=values, index=years, name=\"Unemployment\")\n",
    "\n",
    "#head and tail methods take an int argument to display the first and last 'n' elements respectively\n",
    "#as long as the given arg is valid\n",
    "print(unemp.head(2))\n",
    "#keyword arg \"kind\" requires a string specifying graph type\n",
    "unemp.plot(kind='bar')\n",
    "\n",
    "#Using loc here to select the highest and lowest value, but this does not act as a search\n",
    "print(\"\\nUsing loc\")\n",
    "print(f\"The max unemployment rate was {unemp.loc[2011]} in 2011.\")\n",
    "print(f\"The min unemployment rate was {unemp.loc[2001]} in 2001.\")\n",
    "\n",
    "#Max and min act as actual searches, but don't return info regarding the corresponding year\n",
    "print(\"\\nUsing max and min\")\n",
    "max = unemp.values.max()\n",
    "min = unemp.values.min()\n",
    "print(f\"The max unemployment rate was {max} in 2011.\")\n",
    "print(f\"The min unemployment rate was {min} in 2001.\")\n",
    "\n",
    "'''\n",
    "The type is float64, which corresponds to floating point numbers that can represent\n",
    "a large range of real numbers both integer and decimal. 64 represents the number of bits\n",
    "the number will take up in memory. This does not necessarily correlate to 2^64 possible values,\n",
    "since the exponent and base require separate representation in bits besides the mantissa,\n",
    "but FP numbers can represent a large range of decimal and integer values\n",
    "'''\n",
    "print(\"\\nData type for Series: \" + str(unemp.dtype))"
   ]
  },
  {
   "cell_type": "code",
   "execution_count": 5,
   "metadata": {},
   "outputs": [
    {
     "name": "stdout",
     "output_type": "stream",
     "text": [
      "List of columns in the DataFrame\n",
      "['NorthEast', 'MidWest', 'South', 'West', 'National']\n"
     ]
    },
    {
     "data": {
      "text/plain": [
       "<AxesSubplot:>"
      ]
     },
     "execution_count": 5,
     "metadata": {},
     "output_type": "execute_result"
    },
    {
     "data": {
      "image/png": "[encoded data removed]",
      "text/plain": [
       "<Figure size 432x288 with 1 Axes>"
      ]
     },
     "metadata": {
      "needs_background": "light"
     },
     "output_type": "display_data"
    }
   ],
   "source": [
    "#Exercise 2\n",
    "data = {\n",
    "    \"NorthEast\": [5.9,  5.6,  4.4,  3.8,  5.8,  4.9,  4.3,  7.1,  8.3,  7.9,  5.7],\n",
    "    \"MidWest\": [4.5,  4.3,  3.6,  4. ,  5.7,  5.7,  4.9,  8.1,  8.7,  7.4,  5.1],\n",
    "    \"South\": [5.3,  5.2,  4.2,  4. ,  5.7,  5.2,  4.3,  7.6,  9.1,  7.4,  5.5],\n",
    "    \"West\": [6.6, 6., 5.2, 4.6, 6.5, 5.5, 4.5, 8.6, 10.7, 8.5, 6.1],\n",
    "    \"National\": [5.6, 5.3, 4.3, 4.2, 5.8, 5.3, 4.6, 7.8, 9.1, 8., 5.7]\n",
    "}\n",
    "\n",
    "unemp_region = pd.DataFrame(data, index=years)\n",
    "\n",
    "#Columns returns index object that can be casted into a list\n",
    "print(\"List of columns in the DataFrame\")\n",
    "print(list(unemp_region.columns))\n",
    "\n",
    "#Should create multiple colors of bars per year since there are multiple regions to graph now\n",
    "# This new plot has the same axes as unemp, but has 5 bars for each year, corresponding to each column\n",
    "unemp_region.plot(kind='bar')"
   ]
  },
  {
   "cell_type": "code",
   "execution_count": 6,
   "metadata": {},
   "outputs": [
    {
     "name": "stdout",
     "output_type": "stream",
     "text": [
      "1995     6.6\n",
      "2005     5.5\n",
      "2011    10.7\n",
      "2015     6.1\n",
      "Name: West, dtype: float64\n"
     ]
    },
    {
     "data": {
      "text/html": [
       "<div>\n",
       "<style scoped>\n",
       "    .dataframe tbody tr th:only-of-type {\n",
       "        vertical-align: middle;\n",
       "    }\n",
       "\n",
       "    .dataframe tbody tr th {\n",
       "        vertical-align: top;\n",
       "    }\n",
       "\n",
       "    .dataframe thead th {\n",
       "        text-align: right;\n",
       "    }\n",
       "</style>\n",
       "<table border=\"1\" class=\"dataframe\">\n",
       "  <thead>\n",
       "    <tr style=\"text-align: right;\">\n",
       "      <th></th>\n",
       "      <th>NorthEast</th>\n",
       "      <th>West</th>\n",
       "    </tr>\n",
       "  </thead>\n",
       "  <tbody>\n",
       "    <tr>\n",
       "      <th>1995</th>\n",
       "      <td>5.9</td>\n",
       "      <td>6.6</td>\n",
       "    </tr>\n",
       "    <tr>\n",
       "      <th>2005</th>\n",
       "      <td>4.9</td>\n",
       "      <td>5.5</td>\n",
       "    </tr>\n",
       "    <tr>\n",
       "      <th>2011</th>\n",
       "      <td>8.3</td>\n",
       "      <td>10.7</td>\n",
       "    </tr>\n",
       "    <tr>\n",
       "      <th>2015</th>\n",
       "      <td>5.7</td>\n",
       "      <td>6.1</td>\n",
       "    </tr>\n",
       "  </tbody>\n",
       "</table>\n",
       "</div>"
      ],
      "text/plain": [
       "      NorthEast  West\n",
       "1995        5.9   6.6\n",
       "2005        4.9   5.5\n",
       "2011        8.3  10.7\n",
       "2015        5.7   6.1"
      ]
     },
     "execution_count": 6,
     "metadata": {},
     "output_type": "execute_result"
    }
   ],
   "source": [
    "#To restrict to a 1D dictionary, make one subset one element\n",
    "print(unemp_region.loc[[1995, 2005, 2011, 2015], \"West\"])\n",
    "\n",
    "#Can use multiple subsets for both labels and values to create a smaller table\n",
    "unemp_region.loc[[1995, 2005, 2011, 2015], [\"NorthEast\", \"West\"]]\n"
   ]
  },
  {
   "cell_type": "code",
   "execution_count": 9,
   "metadata": {},
   "outputs": [
    {
     "name": "stdout",
     "output_type": "stream",
     "text": [
      "NorthEast    float64\n",
      "MidWest      float64\n",
      "South        float64\n",
      "West         float64\n",
      "National     float64\n",
      "dtype: object\n"
     ]
    }
   ],
   "source": [
    "'''\n",
    "This prints the respective data type for every column in the DataFrame, which can be of different types\n",
    "As unemp, each column is made of floats, yet here the overall data type is said to be object\n",
    "This perhaps is due to the data frame having multiple columns and thus multiple floats, unlike unemp\n",
    "'''\n",
    "print(unemp_region.dtypes)"
   ]
  }
 ],
 "metadata": {
  "date": 1596739276.3386528,
  "filename": "intro.rst",
  "kernelspec": {
   "display_name": "Python 3",
   "language": "python",
   "name": "python3"
  },
  "language_info": {
   "codemirror_mode": {
    "name": "ipython",
    "version": 3
   },
   "file_extension": ".py",
   "mimetype": "text/x-python",
   "name": "python",
   "nbconvert_exporter": "python",
   "pygments_lexer": "ipython3",
   "version": "3.8.7"
  },
  "next_doc": {
   "link": "basics",
   "title": "Basic Functionality"
  },
  "prev_doc": {
   "link": "index",
   "title": "pandas"
  },
  "title": "Introduction"
 },
 "nbformat": 4,
 "nbformat_minor": 4
}
