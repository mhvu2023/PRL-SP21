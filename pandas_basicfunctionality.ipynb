{
 "cells": [
  {
   "cell_type": "code",
   "execution_count": 5,
   "metadata": {
    "hide-output": false
   },
   "outputs": [],
   "source": [
    "import pandas as pd\n",
    "\n",
    "%matplotlib inline\n",
    "# activate plot theme\n",
    "import qeds\n",
    "qeds.themes.mpl_style();\n",
    "\n",
    "## Load up the data -- this will take a couple seconds\n",
    "url = \"https://datascience.quantecon.org/assets/data/state_unemployment.csv\"\n",
    "unemp_raw = pd.read_csv(url, parse_dates=[\"Date\"])\n",
    "## Create the pivot table\n",
    "unemp_all = (\n",
    "    unemp_raw\n",
    "    .reset_index()\n",
    "    .pivot_table(index=\"Date\", columns=\"state\", values=\"UnemploymentRate\")\n",
    ")\n",
    "\n"
   ]
  },
  {
   "cell_type": "code",
   "execution_count": 10,
   "metadata": {},
   "outputs": [
    {
     "data": {
      "text/html": [
       "<div>\n",
       "<style scoped>\n",
       "    .dataframe tbody tr th:only-of-type {\n",
       "        vertical-align: middle;\n",
       "    }\n",
       "\n",
       "    .dataframe tbody tr th {\n",
       "        vertical-align: top;\n",
       "    }\n",
       "\n",
       "    .dataframe thead th {\n",
       "        text-align: right;\n",
       "    }\n",
       "</style>\n",
       "<table border=\"1\" class=\"dataframe\">\n",
       "  <thead>\n",
       "    <tr style=\"text-align: right;\">\n",
       "      <th>state</th>\n",
       "      <th>Arizona</th>\n",
       "      <th>California</th>\n",
       "      <th>Florida</th>\n",
       "      <th>Illinois</th>\n",
       "      <th>Michigan</th>\n",
       "      <th>New York</th>\n",
       "      <th>Texas</th>\n",
       "    </tr>\n",
       "    <tr>\n",
       "      <th>Date</th>\n",
       "      <th></th>\n",
       "      <th></th>\n",
       "      <th></th>\n",
       "      <th></th>\n",
       "      <th></th>\n",
       "      <th></th>\n",
       "      <th></th>\n",
       "    </tr>\n",
       "  </thead>\n",
       "  <tbody>\n",
       "    <tr>\n",
       "      <th>2000-01-01</th>\n",
       "      <td>4.1</td>\n",
       "      <td>5.0</td>\n",
       "      <td>3.7</td>\n",
       "      <td>4.2</td>\n",
       "      <td>3.3</td>\n",
       "      <td>4.7</td>\n",
       "      <td>4.6</td>\n",
       "    </tr>\n",
       "    <tr>\n",
       "      <th>2000-02-01</th>\n",
       "      <td>4.1</td>\n",
       "      <td>5.0</td>\n",
       "      <td>3.7</td>\n",
       "      <td>4.2</td>\n",
       "      <td>3.2</td>\n",
       "      <td>4.7</td>\n",
       "      <td>4.6</td>\n",
       "    </tr>\n",
       "    <tr>\n",
       "      <th>2000-03-01</th>\n",
       "      <td>4.0</td>\n",
       "      <td>5.0</td>\n",
       "      <td>3.7</td>\n",
       "      <td>4.3</td>\n",
       "      <td>3.2</td>\n",
       "      <td>4.6</td>\n",
       "      <td>4.5</td>\n",
       "    </tr>\n",
       "    <tr>\n",
       "      <th>2000-04-01</th>\n",
       "      <td>4.0</td>\n",
       "      <td>5.1</td>\n",
       "      <td>3.7</td>\n",
       "      <td>4.3</td>\n",
       "      <td>3.3</td>\n",
       "      <td>4.6</td>\n",
       "      <td>4.4</td>\n",
       "    </tr>\n",
       "    <tr>\n",
       "      <th>2000-05-01</th>\n",
       "      <td>4.0</td>\n",
       "      <td>5.1</td>\n",
       "      <td>3.7</td>\n",
       "      <td>4.3</td>\n",
       "      <td>3.5</td>\n",
       "      <td>4.6</td>\n",
       "      <td>4.3</td>\n",
       "    </tr>\n",
       "  </tbody>\n",
       "</table>\n",
       "</div>"
      ],
      "text/plain": [
       "state       Arizona  California  Florida  Illinois  Michigan  New York  Texas\n",
       "Date                                                                         \n",
       "2000-01-01      4.1         5.0      3.7       4.2       3.3       4.7    4.6\n",
       "2000-02-01      4.1         5.0      3.7       4.2       3.2       4.7    4.6\n",
       "2000-03-01      4.0         5.0      3.7       4.3       3.2       4.6    4.5\n",
       "2000-04-01      4.0         5.1      3.7       4.3       3.3       4.6    4.4\n",
       "2000-05-01      4.0         5.1      3.7       4.3       3.5       4.6    4.3"
      ]
     },
     "execution_count": 10,
     "metadata": {},
     "output_type": "execute_result"
    }
   ],
   "source": [
    "#DataFrame for Exercise 1\n",
    "states = [\n",
    "    \"Arizona\", \"California\", \"Florida\", \"Illinois\",\n",
    "    \"Michigan\", \"New York\", \"Texas\"\n",
    "]\n",
    "unemp = unemp_all[states]\n",
    "\n",
    "unemp.head()"
   ]
  },
  {
   "cell_type": "markdown",
   "metadata": {},
   "source": [
    "## Exercises\n",
    "\n",
    "\n",
    "<a id='exerciselist-0'></a>\n",
    "**Exercise 1**\n",
    "\n",
    "Looking at the displayed DataFrame above, can you identify the index? The columns?\n",
    "\n",
    "You can use the cell below to verify your visual intuition."
   ]
  },
  {
   "cell_type": "code",
   "execution_count": 11,
   "metadata": {
    "hide-output": false
   },
   "outputs": [
    {
     "name": "stdout",
     "output_type": "stream",
     "text": [
      "DatetimeIndex(['2000-01-01', '2000-02-01', '2000-03-01', '2000-04-01',\n",
      "               '2000-05-01', '2000-06-01', '2000-07-01', '2000-08-01',\n",
      "               '2000-09-01', '2000-10-01',\n",
      "               ...\n",
      "               '2017-03-01', '2017-04-01', '2017-05-01', '2017-06-01',\n",
      "               '2017-07-01', '2017-08-01', '2017-09-01', '2017-10-01',\n",
      "               '2017-11-01', '2017-12-01'],\n",
      "              dtype='datetime64[ns]', name='Date', length=216, freq=None)\n",
      "Index(['Arizona', 'California', 'Florida', 'Illinois', 'Michigan', 'New York',\n",
      "       'Texas'],\n",
      "      dtype='object', name='state')\n"
     ]
    }
   ],
   "source": [
    "'''\n",
    "According to the previous section, the index of a DataFrame or Series object refers to\n",
    "its row labels, so the dates in the first column are the indices. The columns labels\n",
    "coincide with that of any other table or Excel spreadsheet, so the columns contain\n",
    "data organized by state\n",
    "'''\n",
    "#Should print dates\n",
    "print(unemp.index)\n",
    "#Should print US states\n",
    "print(unemp.columns)"
   ]
  },
  {
   "cell_type": "markdown",
   "metadata": {},
   "source": [
    "([*back to text*](https://datascience.quantecon.org/#exercise-0))\n",
    "\n",
    "**Exercise 2**\n",
    "\n",
    "Do the following exercises in separate code cells below:\n",
    "\n",
    "- At each date, what is the minimum unemployment rate across all states\n",
    "  in our sample?  \n",
    "- What was the median unemployment rate in each state?  \n",
    "- What was the maximum unemployment rate across the states in our\n",
    "  sample? What state did it happen in? In what month/year was this\n",
    "  achieved?  \n",
    "  - Hint 1: What Python type (not `dtype`) is returned by the\n",
    "    aggregation?  \n",
    "  - Hint 2: Read documentation for the method `idxmax`  \n",
    "- Classify each state as high or low volatility based on whether the\n",
    "  variance of their unemployment is above or below 4.  "
   ]
  },
  {
   "cell_type": "code",
   "execution_count": 46,
   "metadata": {
    "hide-output": false
   },
   "outputs": [
    {
     "data": {
      "text/plain": [
       "Date\n",
       "2000-01-01    3.3\n",
       "2000-02-01    3.2\n",
       "2000-03-01    3.2\n",
       "2000-04-01    3.3\n",
       "2000-05-01    3.5\n",
       "             ... \n",
       "2017-08-01    4.0\n",
       "2017-09-01    3.9\n",
       "2017-10-01    3.9\n",
       "2017-11-01    3.9\n",
       "2017-12-01    3.9\n",
       "Length: 216, dtype: float64"
      ]
     },
     "execution_count": 46,
     "metadata": {},
     "output_type": "execute_result"
    }
   ],
   "source": [
    "# Exercise 2.1\n",
    "# Min unemployment rate for a particular DateTimeIndex (row label), Axis=1 checks by row\n",
    "unemp.min(axis=1)"
   ]
  },
  {
   "cell_type": "code",
   "execution_count": 47,
   "metadata": {
    "hide-output": false
   },
   "outputs": [
    {
     "data": {
      "text/plain": [
       "state\n",
       "Arizona       5.80\n",
       "California    6.50\n",
       "Florida       5.35\n",
       "Illinois      6.15\n",
       "Michigan      7.00\n",
       "New York      5.70\n",
       "Texas         5.40\n",
       "dtype: float64"
      ]
     },
     "execution_count": 47,
     "metadata": {},
     "output_type": "execute_result"
    }
   ],
   "source": [
    "# Exercise 2.2\n",
    "# Median unemployment rate by state\n",
    "unemp.median()"
   ]
  },
  {
   "cell_type": "code",
   "execution_count": 64,
   "metadata": {
    "hide-output": false,
    "scrolled": true
   },
   "outputs": [
    {
     "name": "stdout",
     "output_type": "stream",
     "text": [
      "The highest unemployment rate in the set was 14.6% on 2009-06-01 00:00:00 in Michigan\n"
     ]
    }
   ],
   "source": [
    "# Exercise 2.3\n",
    "# First aggregation is to find max of every column (state), returns a DataFrame or Series still, so more to parse!\n",
    "max_in_states = unemp.max()\n",
    "# Now for the new DataFrame obtained, find the label associated with the max\n",
    "max_label = max_in_states.idxmax()\n",
    "\n",
    "'''\n",
    "Now we put it all together, printing the DateTimeIndex in the unemp DataFrame\n",
    "associated with the state in `max_label` we found, then printing the state itself.\n",
    "\n",
    "In other words, once we find the column label associated with the max in a DataFrame,\n",
    "it becomes a key tool we can use to locate the rest of its associated data\n",
    "'''\n",
    "print(f\"The highest unemployment rate in the set was {unemp.max()[max_label]}% on\"\n",
    "      f\" {unemp.idxmax()[max_label]} in {max_label}\")\n",
    "# It occured in Michigan, on 2009-06-01"
   ]
  },
  {
   "cell_type": "code",
   "execution_count": 63,
   "metadata": {
    "hide-output": false
   },
   "outputs": [
    {
     "data": {
      "text/html": [
       "<div>\n",
       "<style scoped>\n",
       "    .dataframe tbody tr th:only-of-type {\n",
       "        vertical-align: middle;\n",
       "    }\n",
       "\n",
       "    .dataframe tbody tr th {\n",
       "        vertical-align: top;\n",
       "    }\n",
       "\n",
       "    .dataframe thead th {\n",
       "        text-align: right;\n",
       "    }\n",
       "</style>\n",
       "<table border=\"1\" class=\"dataframe\">\n",
       "  <thead>\n",
       "    <tr style=\"text-align: right;\">\n",
       "      <th></th>\n",
       "      <th>Arizona</th>\n",
       "      <th>California</th>\n",
       "      <th>Florida</th>\n",
       "      <th>Illinois</th>\n",
       "      <th>Michigan</th>\n",
       "      <th>New York</th>\n",
       "      <th>Texas</th>\n",
       "    </tr>\n",
       "  </thead>\n",
       "  <tbody>\n",
       "    <tr>\n",
       "      <th>vol_lvl</th>\n",
       "      <td>High</td>\n",
       "      <td>High</td>\n",
       "      <td>High</td>\n",
       "      <td>Low</td>\n",
       "      <td>High</td>\n",
       "      <td>Low</td>\n",
       "      <td>Low</td>\n",
       "    </tr>\n",
       "    <tr>\n",
       "      <th>variance</th>\n",
       "      <td>4.179021</td>\n",
       "      <td>6.039162</td>\n",
       "      <td>5.780556</td>\n",
       "      <td>3.846785</td>\n",
       "      <td>6.81734</td>\n",
       "      <td>2.29353</td>\n",
       "      <td>1.663234</td>\n",
       "    </tr>\n",
       "  </tbody>\n",
       "</table>\n",
       "</div>"
      ],
      "text/plain": [
       "           Arizona California   Florida  Illinois Michigan New York     Texas\n",
       "vol_lvl       High       High      High       Low     High      Low       Low\n",
       "variance  4.179021   6.039162  5.780556  3.846785  6.81734  2.29353  1.663234"
      ]
     },
     "execution_count": 63,
     "metadata": {},
     "output_type": "execute_result"
    }
   ],
   "source": [
    "# Exercise 2.3\n",
    "# Use var function for DataFrame and conditional to tag each column as high or low\n",
    "\n",
    "def vol_lvl(s) :\n",
    "    if s.var() > 4:\n",
    "        out = \"High\"\n",
    "    else:\n",
    "        out = \"Low\"\n",
    "        \n",
    "    return out\n",
    "\n",
    "# Getter function for variance to compare side-by-side in the aggregation\n",
    "def variance(s) :\n",
    "    return s.var()\n",
    "\n",
    "unemp.agg([vol_lvl, variance])"
   ]
  },
  {
   "cell_type": "markdown",
   "metadata": {},
   "source": [
    "([*back to text*](https://datascience.quantecon.org/#exercise-1))\n",
    "\n",
    "**Exercise 3**\n",
    "\n",
    "Imagine that we want to determine whether unemployment was high (> 6.5),\n",
    "medium (4.5 < x <= 6.5), or low (<= 4.5) for each state and each month.\n",
    "\n",
    "1. Write a Python function that takes a single number as an input and\n",
    "  outputs a single string noting if that number is high, medium, or low.  \n",
    "1. Pass your function to `applymap` (quiz: why `applymap` and not\n",
    "  `agg` or `apply`?) and save the result in a new DataFrame called\n",
    "  `unemp_bins`.  \n",
    "1. (Challenging) This exercise has multiple parts:  \n",
    "  1. Use another transform on `unemp_bins` to count how many\n",
    "    times each state had each of the three classifications.  \n",
    "    - Hint 1: Will this value counting function be a Series or scalar\n",
    "      transform?  \n",
    "    - Hint 2: Try googling \"pandas count unique value\" or something\n",
    "      similar to find the right transform.  \n",
    "  1. Construct a horizontal bar chart of the number of occurrences of\n",
    "    each level with one bar per state and classification (21 total\n",
    "    bars).  \n",
    "1. (Challenging) Repeat the previous step, but count how many states had\n",
    "  each classification in each month. Which month had the most states\n",
    "  with high unemployment? What about medium and low?  "
   ]
  },
  {
   "cell_type": "code",
   "execution_count": 119,
   "metadata": {
    "hide-output": false
   },
   "outputs": [],
   "source": [
    "# Exercise 3.1: Write a Python function to classify unemployment levels.\n",
    "def level(x):\n",
    "    if (x > 6.5):\n",
    "        return \"High\"\n",
    "    elif (x > 4.5 and x <= 6.5):\n",
    "        return \"Medium\"\n",
    "    elif (x <= 4.5):\n",
    "        return \"Low\""
   ]
  },
  {
   "cell_type": "code",
   "execution_count": 117,
   "metadata": {
    "hide-output": false
   },
   "outputs": [
    {
     "name": "stdout",
     "output_type": "stream",
     "text": [
      "state       Arizona  California  Florida  Illinois  Michigan  New York  Texas\n",
      "Date                                                                         \n",
      "2000-01-01      4.1         5.0      3.7       4.2       3.3       4.7    4.6\n",
      "2000-02-01      4.1         5.0      3.7       4.2       3.2       4.7    4.6\n",
      "2000-03-01      4.0         5.0      3.7       4.3       3.2       4.6    4.5\n",
      "2000-04-01      4.0         5.1      3.7       4.3       3.3       4.6    4.4\n",
      "2000-05-01      4.0         5.1      3.7       4.3       3.5       4.6    4.3\n",
      "...             ...         ...      ...       ...       ...       ...    ...\n",
      "2017-08-01      4.7         4.6      4.0       5.0       4.6       4.7    4.0\n",
      "2017-09-01      4.7         4.5      3.9       5.0       4.7       4.7    4.0\n",
      "2017-10-01      4.7         4.5      3.9       4.9       4.7       4.7    3.9\n",
      "2017-11-01      4.7         4.5      3.9       4.9       4.7       4.7    3.9\n",
      "2017-12-01      4.7         4.5      3.9       4.9       4.7       4.7    4.0\n",
      "\n",
      "[216 rows x 7 columns]\n",
      "state      Arizona California Florida Illinois Michigan New York   Texas\n",
      "Date                                                                    \n",
      "2000-01-01     Low     Medium     Low      Low      Low   Medium  Medium\n",
      "2000-02-01     Low     Medium     Low      Low      Low   Medium  Medium\n",
      "2000-03-01     Low     Medium     Low      Low      Low   Medium     Low\n",
      "2000-04-01     Low     Medium     Low      Low      Low   Medium     Low\n",
      "2000-05-01     Low     Medium     Low      Low      Low   Medium     Low\n",
      "...            ...        ...     ...      ...      ...      ...     ...\n",
      "2017-08-01  Medium     Medium     Low   Medium   Medium   Medium     Low\n",
      "2017-09-01  Medium        Low     Low   Medium   Medium   Medium     Low\n",
      "2017-10-01  Medium        Low     Low   Medium   Medium   Medium     Low\n",
      "2017-11-01  Medium        Low     Low   Medium   Medium   Medium     Low\n",
      "2017-12-01  Medium        Low     Low   Medium   Medium   Medium     Low\n",
      "\n",
      "[216 rows x 7 columns]\n"
     ]
    }
   ],
   "source": [
    "# Exercise 3.2: Pass function from part 1 to applymap\n",
    "unemp_bins = unemp.applymap(level)\n",
    "print(unemp)\n",
    "print(unemp_bins)\n",
    "# Top and bottom comparison of value to correpsonding level (low, med, high)"
   ]
  },
  {
   "cell_type": "code",
   "execution_count": 223,
   "metadata": {
    "hide-output": false
   },
   "outputs": [
    {
     "name": "stdout",
     "output_type": "stream",
     "text": [
      "This brings up the table without needing to transpose\n",
      "            Medium  High  Low\n",
      "Arizona         97    75   44\n",
      "California     106   106    4\n",
      "Florida         79    68   69\n",
      "Illinois       106    91   19\n",
      "Michigan        57   142   17\n",
      "New York       129    65   22\n",
      "Texas          107    51   58\n",
      "This however, is simpler\n",
      "state   Arizona  California  Florida  Illinois  Michigan  New York  Texas\n",
      "High         75         106       68        91       142        65     51\n",
      "Low          44           4       69        19        17        22     58\n",
      "Medium       97         106       79       106        57       129    107\n"
     ]
    },
    {
     "data": {
      "text/plain": [
       "<AxesSubplot:xlabel='state'>"
      ]
     },
     "execution_count": 223,
     "metadata": {},
     "output_type": "execute_result"
    },
    {
     "data": {
      "image/png": "[encoded data removed]",
      "text/plain": [
       "<Figure size 432x288 with 1 Axes>"
      ]
     },
     "metadata": {},
     "output_type": "display_data"
    }
   ],
   "source": [
    "# Exercise 3.3: Count the number of times each state had each classification.\n",
    "'''\n",
    "Using a list comprehension and value_counts transform to compile\n",
    "a list of series that can be stitched back into a DataFrame\n",
    "'''\n",
    "series_list = [unemp_bins[column].value_counts() for column in unemp_bins.columns]\n",
    "state_data = pd.DataFrame(data=series_list)\n",
    "print(\"This brings up the table without needing to transpose\")\n",
    "print(state_data)\n",
    "'''\n",
    "Using the apply to transform the DataFrame, you get\n",
    "the actually elegant solution after my brain turned on.\n",
    "Requires data transpose, however.'''\n",
    "state_data = unemp_bins.apply(pd.Series.value_counts, axis=0)\n",
    "print(\"This however, is simpler\")\n",
    "print(state_data)\n",
    "state_data.transpose().plot(kind='bar')"
   ]
  },
  {
   "cell_type": "code",
   "execution_count": 222,
   "metadata": {
    "hide-output": false
   },
   "outputs": [
    {
     "name": "stdout",
     "output_type": "stream",
     "text": [
      "            High  Low  Medium\n",
      "Date                         \n",
      "2000-01-01   NaN  4.0     3.0\n",
      "2000-02-01   NaN  4.0     3.0\n",
      "2000-03-01   NaN  5.0     2.0\n",
      "2000-04-01   NaN  5.0     2.0\n",
      "2000-05-01   NaN  5.0     2.0\n",
      "...          ...  ...     ...\n",
      "2017-08-01   NaN  2.0     5.0\n",
      "2017-09-01   NaN  3.0     4.0\n",
      "2017-10-01   NaN  3.0     4.0\n",
      "2017-11-01   NaN  3.0     4.0\n",
      "2017-12-01   NaN  3.0     4.0\n",
      "\n",
      "[216 rows x 3 columns]\n",
      "The high max was 7.0 on 2009-04-01 00:00:00\n",
      "The medium max was 7.0 on 2001-09-01 00:00:00\n",
      "The low max was 6.0 on 2000-08-01 00:00:00\n"
     ]
    }
   ],
   "source": [
    "# Exercise 3.4: Apply the same transform from part 4, but to each date instead of to each state.\n",
    "# Only requires a change in axis, graphing would be far too intensive with 216 dates to plot though\n",
    "date_data = unemp_bins.apply(pd.Series.value_counts, axis=1)\n",
    "#lookups for the \n",
    "high_max = date_data['High'].max()\n",
    "med_max = date_data['Medium'].max()\n",
    "low_max = date_data['Low'].max()\n",
    "\n",
    "print(date_data)\n",
    "print(f\"The high max was {high_max} on {date_data['High'].idxmax()}\"\n",
    "      f\"\\nThe medium max was {med_max} on {date_data['Medium'].idxmax()}\"\n",
    "      f\"\\nThe low max was {low_max} on {date_data['Low'].idxmax()}\")\n",
    "    \n"
   ]
  },
  {
   "cell_type": "markdown",
   "metadata": {},
   "source": [
    "([*back to text*](https://datascience.quantecon.org/#exercise-2))\n",
    "\n",
    "**Exercise 4**\n",
    "\n",
    "- For a single state of your choice, determine what the mean\n",
    "  unemployment is during \"Low\", \"Medium\", and \"High\" unemployment times\n",
    "  (recall your `unemp_bins` DataFrame from the exercise above).  \n",
    "  - Think about how you would do this for all the\n",
    "    states in our sample and write your thoughts... We will soon\n",
    "    learn tools that will *greatly* simplify operations like\n",
    "    this that operate on distinct *groups* of data at a time.  \n",
    "- Which states in our sample performs the best during \"bad times?\" To\n",
    "  determine this, compute the mean unemployment for each state only for\n",
    "  months in which the mean unemployment rate in our sample is greater\n",
    "  than 7.  \n",
    "\n",
    "\n",
    "([*back to text*](https://datascience.quantecon.org/#exercise-3))"
   ]
  },
  {
   "cell_type": "code",
   "execution_count": 257,
   "metadata": {},
   "outputs": [
    {
     "name": "stdout",
     "output_type": "stream",
     "text": [
      "The mean rate of low unemployment months in Texas was approximately 4.298275862068965%\n",
      "The mean rate of medium unemployment months in Texas was approximately 5.567289719626169%\n",
      "The mean rate of high unemployment months in Texas was approximately 7.552941176470589%\n",
      "Arizona had an overall mean unemployment rate of 9.03846153846154% during high unemployment periods\n",
      "California had an overall mean unemployment rate of 10.234210526315788% during high unemployment periods\n",
      "Florida had an overall mean unemployment rate of 9.568965517241379% during high unemployment periods\n",
      "Illinois had an overall mean unemployment rate of 9.423529411764704% during high unemployment periods\n",
      "Michigan had an overall mean unemployment rate of 9.465384615384615% during high unemployment periods\n",
      "New York had an overall mean unemployment rate of 8.286666666666669% during high unemployment periods\n",
      "Texas had an overall mean unemployment rate of 7.9727272727272736% during high unemployment periods\n"
     ]
    }
   ],
   "source": [
    "#Exercise 4\n",
    "texas_data = unemp['Texas']\n",
    "\n",
    "print(\"The mean rate of low unemployment months in Texas was \"\n",
    "      f\"approximately {texas_data.loc[texas_data <= 4.5].mean()}%\")\n",
    "print(\"The mean rate of medium unemployment months in Texas was \"\n",
    "      f\"approximately {texas_data.loc[(texas_data > 4.5) & (texas_data <= 6.5)].mean()}%\")\n",
    "print(\"The mean rate of high unemployment months in Texas was \"\n",
    "      f\"approximately {texas_data.loc[texas_data > 6.5].mean()}%\")\n",
    "\n",
    "'''\n",
    "One option is to create aggregation functions that calculates the means of low, medium, and high periods\n",
    "for a particular series aka a column corresponding to a state. Then using a list comprehension, the new data can be\n",
    "stacked and stitched into a new DataFrame. Without stitching however, organizing 3 new series per state becomes\n",
    "very disorganized and or hard to read.\n",
    "'''\n",
    "\n",
    "#Using list comprehensions to obtain relevant data per column (state), then taking mean of each series in the list and printing\n",
    "worst_data = [unemp[column].loc[unemp[column] > 7] for column in unemp.columns]\n",
    "worst_str = [f\"{column.name} had an overall mean unemployment rate of {column.mean()}% \"\n",
    "             \"during high unemployment periods\" for column in worst_data]\n",
    "\n",
    "print(*worst_str, sep=\"\\n\")\n",
    "#print(*(column.mean() for column in worst_data) + {column.index}\", sep = \"\\n\")"
   ]
  }
 ],
 "metadata": {
  "date": 1596739275.0450828,
  "filename": "basics.rst",
  "kernelspec": {
   "display_name": "Python 3",
   "language": "python",
   "name": "python3"
  },
  "language_info": {
   "codemirror_mode": {
    "name": "ipython",
    "version": 3
   },
   "file_extension": ".py",
   "mimetype": "text/x-python",
   "name": "python",
   "nbconvert_exporter": "python",
   "pygments_lexer": "ipython3",
   "version": "3.8.7"
  },
  "next_doc": {
   "link": "the_index",
   "title": "The Index"
  },
  "prev_doc": {
   "link": "intro",
   "title": "Introduction"
  },
  "title": "Basic Functionality"
 },
 "nbformat": 4,
 "nbformat_minor": 4
}
