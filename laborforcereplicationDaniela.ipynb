{
 "cells": [
  {
   "cell_type": "code",
   "execution_count": 1,
   "metadata": {},
   "outputs": [],
   "source": [
    "# COVID-19 PROJECT -- Labor Force Participation Rate at the National Level\n",
    "import pandas as pd # import pandas\n",
    "import matplotlib.pyplot as plt # import plotting package\n",
    "import seaborn as sns\n",
    "from pandas import DataFrame"
   ]
  },
  {
   "cell_type": "code",
   "execution_count": 13,
   "metadata": {},
   "outputs": [
    {
     "name": "stdout",
     "output_type": "stream",
     "text": [
      "   observation_date  Labor Force Participation Rate\n",
      "0        2020-01-01                            63.4\n",
      "1        2020-02-01                            63.3\n",
      "2        2020-03-01                            62.6\n",
      "3        2020-04-01                            60.2\n",
      "4        2020-05-01                            60.8\n",
      "5        2020-06-01                            61.4\n",
      "6        2020-07-01                            61.5\n",
      "7        2020-08-01                            61.7\n",
      "8        2020-09-01                            61.4\n",
      "9        2020-10-01                            61.6\n",
      "10       2020-11-01                            61.5\n",
      "11       2020-12-01                            61.5\n",
      "12       2021-01-01                            61.4\n",
      "13       2021-02-01                            61.4\n"
     ]
    }
   ],
   "source": [
    "labor_force_participation_month = pd.read_excel(r'/Users/Dani/Downloads/CIVPART (1).xls', sheet_name = '2020-21')\n",
    "print(labor_force_participation_month)"
   ]
  },
  {
   "cell_type": "code",
   "execution_count": 14,
   "metadata": {},
   "outputs": [
    {
     "data": {
      "text/plain": [
       "<function matplotlib.pyplot.show(*args, **kw)>"
      ]
     },
     "execution_count": 14,
     "metadata": {},
     "output_type": "execute_result"
    },
    {
     "data": {
      "image/png": "[encoded data removed]",
      "text/plain": [
       "<Figure size 432x288 with 1 Axes>"
      ]
     },
     "metadata": {
      "needs_background": "light"
     },
     "output_type": "display_data"
    }
   ],
   "source": [
    "X = labor_force_participation_month.plot.line(x ='observation_date', y = 'Labor Force Participation Rate')\n",
    "X.set_ylim(55, 65)\n",
    "plt.title('Labor Force Participation Rate')\n",
    "plt.xlabel('Date')\n",
    "plt.ylabel('Labor Force Participation Rate')\n",
    "plt.show\n",
    "# look at set limit of x to show all months"
   ]
  },
  {
   "cell_type": "code",
   "execution_count": 15,
   "metadata": {},
   "outputs": [],
   "source": [
    "X.set_xlim?"
   ]
  },
  {
   "cell_type": "code",
   "execution_count": null,
   "metadata": {},
   "outputs": [],
   "source": []
  }
 ],
 "metadata": {
  "kernelspec": {
   "display_name": "Python 3",
   "language": "python",
   "name": "python3"
  },
  "language_info": {
   "codemirror_mode": {
    "name": "ipython",
    "version": 3
   },
   "file_extension": ".py",
   "mimetype": "text/x-python",
   "name": "python",
   "nbconvert_exporter": "python",
   "pygments_lexer": "ipython3",
   "version": "3.8.3"
  }
 },
 "nbformat": 4,
 "nbformat_minor": 4
}
